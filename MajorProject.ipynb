{
  "nbformat": 4,
  "nbformat_minor": 0,
  "metadata": {
    "colab": {
      "name": "MajorProject.ipynb",
      "provenance": [],
      "collapsed_sections": [
        "WQI7LiIoUJQp",
        "43m20-CpvtPq",
        "Z4bfTNUDM_Jx",
        "9Ebr6X2UWJqD",
        "prwgR8GmgdsM"
      ],
      "include_colab_link": true
    },
    "kernelspec": {
      "display_name": "Python 3",
      "name": "python3"
    },
    "language_info": {
      "name": "python"
    }
  },
  "cells": [
    {
      "cell_type": "markdown",
      "metadata": {
        "id": "view-in-github",
        "colab_type": "text"
      },
      "source": [
        "<a href=\"https://colab.research.google.com/github/akshit0201/AndroidStudioProjects/blob/master/MajorProject.ipynb\" target=\"_parent\"><img src=\"https://colab.research.google.com/assets/colab-badge.svg\" alt=\"Open In Colab\"/></a>"
      ]
    },
    {
      "cell_type": "markdown",
      "metadata": {
        "id": "WQI7LiIoUJQp"
      },
      "source": [
        "# **Washing machine  model:**"
      ]
    },
    {
      "cell_type": "code",
      "metadata": {
        "colab": {
          "base_uri": "https://localhost:8080/"
        },
        "id": "3zywMi8npWP5",
        "outputId": "c87ae229-d982-4bb2-e1ab-2ce44a4ff19c"
      },
      "source": [
        "from google.colab import drive\n",
        "drive.mount('/gdrive')"
      ],
      "execution_count": null,
      "outputs": [
        {
          "output_type": "stream",
          "name": "stdout",
          "text": [
            "Mounted at /gdrive\n"
          ]
        }
      ]
    },
    {
      "cell_type": "code",
      "metadata": {
        "colab": {
          "base_uri": "https://localhost:8080/",
          "height": 37
        },
        "id": "sPSxgf0YxmvQ",
        "outputId": "ea059341-0480-4ccb-9257-ebcb78137e86"
      },
      "source": [
        "tf.__version__"
      ],
      "execution_count": null,
      "outputs": [
        {
          "output_type": "execute_result",
          "data": {
            "application/vnd.google.colaboratory.intrinsic+json": {
              "type": "string"
            },
            "text/plain": [
              "'2.6.0'"
            ]
          },
          "metadata": {},
          "execution_count": 18
        }
      ]
    },
    {
      "cell_type": "code",
      "metadata": {
        "id": "mj0kkRTTLuq4"
      },
      "source": [
        "import tensorflow as tf\n",
        "tf.config.run_functions_eagerly(True)"
      ],
      "execution_count": null,
      "outputs": []
    },
    {
      "cell_type": "code",
      "metadata": {
        "colab": {
          "base_uri": "https://localhost:8080/"
        },
        "id": "8FtbcnJgUEZT",
        "outputId": "6f9b33b9-4d29-43f6-88e1-6321f590a56c"
      },
      "source": [
        "!pip install -U tensorflow-addons"
      ],
      "execution_count": null,
      "outputs": [
        {
          "output_type": "stream",
          "name": "stdout",
          "text": [
            "Collecting tensorflow-addons\n",
            "  Downloading tensorflow_addons-0.14.0-cp37-cp37m-manylinux_2_12_x86_64.manylinux2010_x86_64.whl (1.1 MB)\n",
            "\u001b[?25l\r\u001b[K     |▎                               | 10 kB 20.8 MB/s eta 0:00:01\r\u001b[K     |▋                               | 20 kB 8.1 MB/s eta 0:00:01\r\u001b[K     |▉                               | 30 kB 8.2 MB/s eta 0:00:01\r\u001b[K     |█▏                              | 40 kB 7.5 MB/s eta 0:00:01\r\u001b[K     |█▌                              | 51 kB 4.0 MB/s eta 0:00:01\r\u001b[K     |█▊                              | 61 kB 4.2 MB/s eta 0:00:01\r\u001b[K     |██                              | 71 kB 4.4 MB/s eta 0:00:01\r\u001b[K     |██▍                             | 81 kB 4.9 MB/s eta 0:00:01\r\u001b[K     |██▋                             | 92 kB 3.7 MB/s eta 0:00:01\r\u001b[K     |███                             | 102 kB 4.0 MB/s eta 0:00:01\r\u001b[K     |███▎                            | 112 kB 4.0 MB/s eta 0:00:01\r\u001b[K     |███▌                            | 122 kB 4.0 MB/s eta 0:00:01\r\u001b[K     |███▉                            | 133 kB 4.0 MB/s eta 0:00:01\r\u001b[K     |████▏                           | 143 kB 4.0 MB/s eta 0:00:01\r\u001b[K     |████▍                           | 153 kB 4.0 MB/s eta 0:00:01\r\u001b[K     |████▊                           | 163 kB 4.0 MB/s eta 0:00:01\r\u001b[K     |█████                           | 174 kB 4.0 MB/s eta 0:00:01\r\u001b[K     |█████▎                          | 184 kB 4.0 MB/s eta 0:00:01\r\u001b[K     |█████▋                          | 194 kB 4.0 MB/s eta 0:00:01\r\u001b[K     |██████                          | 204 kB 4.0 MB/s eta 0:00:01\r\u001b[K     |██████▏                         | 215 kB 4.0 MB/s eta 0:00:01\r\u001b[K     |██████▌                         | 225 kB 4.0 MB/s eta 0:00:01\r\u001b[K     |██████▉                         | 235 kB 4.0 MB/s eta 0:00:01\r\u001b[K     |███████                         | 245 kB 4.0 MB/s eta 0:00:01\r\u001b[K     |███████▍                        | 256 kB 4.0 MB/s eta 0:00:01\r\u001b[K     |███████▊                        | 266 kB 4.0 MB/s eta 0:00:01\r\u001b[K     |████████                        | 276 kB 4.0 MB/s eta 0:00:01\r\u001b[K     |████████▎                       | 286 kB 4.0 MB/s eta 0:00:01\r\u001b[K     |████████▋                       | 296 kB 4.0 MB/s eta 0:00:01\r\u001b[K     |████████▉                       | 307 kB 4.0 MB/s eta 0:00:01\r\u001b[K     |█████████▏                      | 317 kB 4.0 MB/s eta 0:00:01\r\u001b[K     |█████████▌                      | 327 kB 4.0 MB/s eta 0:00:01\r\u001b[K     |█████████▊                      | 337 kB 4.0 MB/s eta 0:00:01\r\u001b[K     |██████████                      | 348 kB 4.0 MB/s eta 0:00:01\r\u001b[K     |██████████▍                     | 358 kB 4.0 MB/s eta 0:00:01\r\u001b[K     |██████████▋                     | 368 kB 4.0 MB/s eta 0:00:01\r\u001b[K     |███████████                     | 378 kB 4.0 MB/s eta 0:00:01\r\u001b[K     |███████████▎                    | 389 kB 4.0 MB/s eta 0:00:01\r\u001b[K     |███████████▌                    | 399 kB 4.0 MB/s eta 0:00:01\r\u001b[K     |███████████▉                    | 409 kB 4.0 MB/s eta 0:00:01\r\u001b[K     |████████████▏                   | 419 kB 4.0 MB/s eta 0:00:01\r\u001b[K     |████████████▍                   | 430 kB 4.0 MB/s eta 0:00:01\r\u001b[K     |████████████▊                   | 440 kB 4.0 MB/s eta 0:00:01\r\u001b[K     |█████████████                   | 450 kB 4.0 MB/s eta 0:00:01\r\u001b[K     |█████████████▎                  | 460 kB 4.0 MB/s eta 0:00:01\r\u001b[K     |█████████████▋                  | 471 kB 4.0 MB/s eta 0:00:01\r\u001b[K     |██████████████                  | 481 kB 4.0 MB/s eta 0:00:01\r\u001b[K     |██████████████▏                 | 491 kB 4.0 MB/s eta 0:00:01\r\u001b[K     |██████████████▌                 | 501 kB 4.0 MB/s eta 0:00:01\r\u001b[K     |██████████████▉                 | 512 kB 4.0 MB/s eta 0:00:01\r\u001b[K     |███████████████                 | 522 kB 4.0 MB/s eta 0:00:01\r\u001b[K     |███████████████▍                | 532 kB 4.0 MB/s eta 0:00:01\r\u001b[K     |███████████████▊                | 542 kB 4.0 MB/s eta 0:00:01\r\u001b[K     |████████████████                | 552 kB 4.0 MB/s eta 0:00:01\r\u001b[K     |████████████████▎               | 563 kB 4.0 MB/s eta 0:00:01\r\u001b[K     |████████████████▋               | 573 kB 4.0 MB/s eta 0:00:01\r\u001b[K     |████████████████▉               | 583 kB 4.0 MB/s eta 0:00:01\r\u001b[K     |█████████████████▏              | 593 kB 4.0 MB/s eta 0:00:01\r\u001b[K     |█████████████████▌              | 604 kB 4.0 MB/s eta 0:00:01\r\u001b[K     |█████████████████▊              | 614 kB 4.0 MB/s eta 0:00:01\r\u001b[K     |██████████████████              | 624 kB 4.0 MB/s eta 0:00:01\r\u001b[K     |██████████████████▍             | 634 kB 4.0 MB/s eta 0:00:01\r\u001b[K     |██████████████████▋             | 645 kB 4.0 MB/s eta 0:00:01\r\u001b[K     |███████████████████             | 655 kB 4.0 MB/s eta 0:00:01\r\u001b[K     |███████████████████▎            | 665 kB 4.0 MB/s eta 0:00:01\r\u001b[K     |███████████████████▌            | 675 kB 4.0 MB/s eta 0:00:01\r\u001b[K     |███████████████████▉            | 686 kB 4.0 MB/s eta 0:00:01\r\u001b[K     |████████████████████▏           | 696 kB 4.0 MB/s eta 0:00:01\r\u001b[K     |████████████████████▍           | 706 kB 4.0 MB/s eta 0:00:01\r\u001b[K     |████████████████████▊           | 716 kB 4.0 MB/s eta 0:00:01\r\u001b[K     |█████████████████████           | 727 kB 4.0 MB/s eta 0:00:01\r\u001b[K     |█████████████████████▎          | 737 kB 4.0 MB/s eta 0:00:01\r\u001b[K     |█████████████████████▋          | 747 kB 4.0 MB/s eta 0:00:01\r\u001b[K     |██████████████████████          | 757 kB 4.0 MB/s eta 0:00:01\r\u001b[K     |██████████████████████▏         | 768 kB 4.0 MB/s eta 0:00:01\r\u001b[K     |██████████████████████▌         | 778 kB 4.0 MB/s eta 0:00:01\r\u001b[K     |██████████████████████▉         | 788 kB 4.0 MB/s eta 0:00:01\r\u001b[K     |███████████████████████         | 798 kB 4.0 MB/s eta 0:00:01\r\u001b[K     |███████████████████████▍        | 808 kB 4.0 MB/s eta 0:00:01\r\u001b[K     |███████████████████████▊        | 819 kB 4.0 MB/s eta 0:00:01\r\u001b[K     |████████████████████████        | 829 kB 4.0 MB/s eta 0:00:01\r\u001b[K     |████████████████████████▎       | 839 kB 4.0 MB/s eta 0:00:01\r\u001b[K     |████████████████████████▋       | 849 kB 4.0 MB/s eta 0:00:01\r\u001b[K     |████████████████████████▉       | 860 kB 4.0 MB/s eta 0:00:01\r\u001b[K     |█████████████████████████▏      | 870 kB 4.0 MB/s eta 0:00:01\r\u001b[K     |█████████████████████████▍      | 880 kB 4.0 MB/s eta 0:00:01\r\u001b[K     |█████████████████████████▊      | 890 kB 4.0 MB/s eta 0:00:01\r\u001b[K     |██████████████████████████      | 901 kB 4.0 MB/s eta 0:00:01\r\u001b[K     |██████████████████████████▎     | 911 kB 4.0 MB/s eta 0:00:01\r\u001b[K     |██████████████████████████▋     | 921 kB 4.0 MB/s eta 0:00:01\r\u001b[K     |███████████████████████████     | 931 kB 4.0 MB/s eta 0:00:01\r\u001b[K     |███████████████████████████▏    | 942 kB 4.0 MB/s eta 0:00:01\r\u001b[K     |███████████████████████████▌    | 952 kB 4.0 MB/s eta 0:00:01\r\u001b[K     |███████████████████████████▉    | 962 kB 4.0 MB/s eta 0:00:01\r\u001b[K     |████████████████████████████    | 972 kB 4.0 MB/s eta 0:00:01\r\u001b[K     |████████████████████████████▍   | 983 kB 4.0 MB/s eta 0:00:01\r\u001b[K     |████████████████████████████▊   | 993 kB 4.0 MB/s eta 0:00:01\r\u001b[K     |█████████████████████████████   | 1.0 MB 4.0 MB/s eta 0:00:01\r\u001b[K     |█████████████████████████████▎  | 1.0 MB 4.0 MB/s eta 0:00:01\r\u001b[K     |█████████████████████████████▋  | 1.0 MB 4.0 MB/s eta 0:00:01\r\u001b[K     |█████████████████████████████▉  | 1.0 MB 4.0 MB/s eta 0:00:01\r\u001b[K     |██████████████████████████████▏ | 1.0 MB 4.0 MB/s eta 0:00:01\r\u001b[K     |██████████████████████████████▌ | 1.1 MB 4.0 MB/s eta 0:00:01\r\u001b[K     |██████████████████████████████▊ | 1.1 MB 4.0 MB/s eta 0:00:01\r\u001b[K     |███████████████████████████████ | 1.1 MB 4.0 MB/s eta 0:00:01\r\u001b[K     |███████████████████████████████▍| 1.1 MB 4.0 MB/s eta 0:00:01\r\u001b[K     |███████████████████████████████▋| 1.1 MB 4.0 MB/s eta 0:00:01\r\u001b[K     |████████████████████████████████| 1.1 MB 4.0 MB/s eta 0:00:01\r\u001b[K     |████████████████████████████████| 1.1 MB 4.0 MB/s \n",
            "\u001b[?25hRequirement already satisfied: typeguard>=2.7 in /usr/local/lib/python3.7/dist-packages (from tensorflow-addons) (2.7.1)\n",
            "Installing collected packages: tensorflow-addons\n",
            "Successfully installed tensorflow-addons-0.14.0\n"
          ]
        }
      ]
    },
    {
      "cell_type": "code",
      "metadata": {
        "id": "Zr514ilapKFO"
      },
      "source": [
        "#loading the values\n",
        "import numpy as np\n",
        "fil = np.load('/gdrive/MyDrive/washdish.npz',allow_pickle=True)\n",
        "\n",
        "timetr,atr,dtr,wtr,dbtr,wbtr = fil['arr_0'],fil['arr_1'],fil['arr_2'],fil['arr_3'],fil['arr_4'],fil['arr_5']"
      ],
      "execution_count": null,
      "outputs": []
    },
    {
      "cell_type": "code",
      "metadata": {
        "id": "J8H6LGJrJoXH"
      },
      "source": [
        "import numpy as np\n",
        "fil = np.load('/gdrive/MyDrive/washdishtest.npz',allow_pickle=True)\n",
        "\n",
        "timetest,atest,dtest,wtest,dbtest,wbtest = fil['arr_0'],fil['arr_1'],fil['arr_2'],fil['arr_3'],fil['arr_4'],fil['arr_5']"
      ],
      "execution_count": null,
      "outputs": []
    },
    {
      "cell_type": "code",
      "metadata": {
        "id": "zt8aKLUNutJ7"
      },
      "source": [
        "\n",
        "wtr = np.reshape(wtr,[-1,512,1])\n",
        "wbtr = np.reshape(wbtr,[-1,512,1])"
      ],
      "execution_count": null,
      "outputs": []
    },
    {
      "cell_type": "code",
      "metadata": {
        "id": "Qtw7l8GduH9M"
      },
      "source": [
        "\n",
        "wtest = np.reshape(wtest,[-1,512,1])\n",
        "wbtest = np.reshape(wbtest,[-1,512,1])"
      ],
      "execution_count": null,
      "outputs": []
    },
    {
      "cell_type": "code",
      "metadata": {
        "id": "aHzlJ2UU69Dr"
      },
      "source": [
        "def prepare(a,b):\n",
        "  temp = []\n",
        "  t = np.shape(a)[0]\n",
        "  for i in range(t):\n",
        "    temp.append(list(zip(a[i],b[i])))\n",
        "  return np.array(temp)\n"
      ],
      "execution_count": null,
      "outputs": []
    },
    {
      "cell_type": "code",
      "metadata": {
        "id": "jRNl_uKfQ1Pm"
      },
      "source": [
        "traindata = prepare(timetr,atr)"
      ],
      "execution_count": null,
      "outputs": []
    },
    {
      "cell_type": "code",
      "metadata": {
        "id": "rL4ur3AOGJzQ"
      },
      "source": [
        "testdata = prepare(timetest,atest)"
      ],
      "execution_count": null,
      "outputs": []
    },
    {
      "cell_type": "code",
      "metadata": {
        "id": "klHcL_C14iXr"
      },
      "source": [
        "\n",
        "train_dataset = tf.data.Dataset.from_tensor_slices(\n",
        "    (\n",
        "        {\"input_1\": traindata},\n",
        "        {\"ed\": wtr, \"sd\": wbtr},\n",
        "    )\n",
        ")\n",
        "train_dataset = train_dataset.batch(100)"
      ],
      "execution_count": null,
      "outputs": []
    },
    {
      "cell_type": "code",
      "metadata": {
        "id": "3K23pQ-9J4mM",
        "colab": {
          "base_uri": "https://localhost:8080/",
          "height": 232
        },
        "outputId": "c539c896-6f82-49f8-ed11-63cf92c71eea"
      },
      "source": [
        "test_dataset = tf.data.Dataset.from_tensor_slices(\n",
        "    (\n",
        "        {\"input_1\": testdata},\n",
        "        {\"ed\": wtest, \"sd\": wbtest},\n",
        "    )\n",
        ")\n",
        "test_dataset = test_dataset.batch(100)"
      ],
      "execution_count": null,
      "outputs": [
        {
          "output_type": "error",
          "ename": "NameError",
          "evalue": "ignored",
          "traceback": [
            "\u001b[0;31m---------------------------------------------------------------------------\u001b[0m",
            "\u001b[0;31mNameError\u001b[0m                                 Traceback (most recent call last)",
            "\u001b[0;32m<ipython-input-12-7b86541ada54>\u001b[0m in \u001b[0;36m<module>\u001b[0;34m()\u001b[0m\n\u001b[1;32m      1\u001b[0m test_dataset = tf.data.Dataset.from_tensor_slices(\n\u001b[1;32m      2\u001b[0m     (\n\u001b[0;32m----> 3\u001b[0;31m         \u001b[0;34m{\u001b[0m\u001b[0;34m\"input_1\"\u001b[0m\u001b[0;34m:\u001b[0m \u001b[0mtestdata\u001b[0m\u001b[0;34m}\u001b[0m\u001b[0;34m,\u001b[0m\u001b[0;34m\u001b[0m\u001b[0;34m\u001b[0m\u001b[0m\n\u001b[0m\u001b[1;32m      4\u001b[0m         \u001b[0;34m{\u001b[0m\u001b[0;34m\"ed\"\u001b[0m\u001b[0;34m:\u001b[0m \u001b[0mwtest\u001b[0m\u001b[0;34m,\u001b[0m \u001b[0;34m\"sd\"\u001b[0m\u001b[0;34m:\u001b[0m \u001b[0mwbtest\u001b[0m\u001b[0;34m}\u001b[0m\u001b[0;34m,\u001b[0m\u001b[0;34m\u001b[0m\u001b[0;34m\u001b[0m\u001b[0m\n\u001b[1;32m      5\u001b[0m     )\n",
            "\u001b[0;31mNameError\u001b[0m: name 'testdata' is not defined"
          ]
        }
      ]
    },
    {
      "cell_type": "code",
      "metadata": {
        "id": "8wu3qIavx9F7"
      },
      "source": [
        "import tensorflow as tf\n",
        "import tensorflow_addons as tfa\n",
        "from tensorflow.keras import Input, Model\n",
        "\n",
        "\n",
        "input1 = tf.keras.layers.Input(shape=(512,2),name=\"input_1\")\n",
        "#input2 = tf.keras.layers.Input(shape=(None,512),name=\"input_2\")\n",
        "#inputs= tf.keras.layers.Concatenate(axis=0)([input1, input2])\n",
        "#inputs = tf.reshape(input1,[-1,512,1])\n",
        "x = tf.keras.layers.Conv1D(filters=16, kernel_size=3, strides=1, padding=\"causal\", activation=\"relu\",input_shape=(512,2))(input1)\n",
        "x = tf.keras.layers.Bidirectional(tf.keras.layers.GRU(128, activation=\"tanh\", return_sequences=True))(x)\n",
        "x = tf.keras.layers.Bidirectional(tf.keras.layers.GRU(256, activation=\"tanh\", return_sequences=True))(x)\n",
        "x = tf.keras.layers.Dense(128, activation=\"tanh\")(x)\n",
        "o1 = tf.keras.layers.Dense(1, activation=\"linear\",name=\"ed\")(x)\n",
        "o2 = tf.keras.layers.Dense(1, activation=\"sigmoid\",name=\"sd\")(x)\n",
        "\n",
        "model = Model(inputs=[input1], outputs=[o1, o2])\n",
        "\n",
        "model.compile(loss={'ed': 'mean_squared_error', \n",
        "                    'sd': 'binary_crossentropy'},\n",
        "              loss_weights={'ed':0.4,\n",
        "                            'sd':0.6},\n",
        "              optimizer='adam',\n",
        "              metrics={'ed': tf.keras.metrics.MeanAbsoluteError(name=\"mean_absolute_error\", dtype=None),\n",
        "                       'sd': tfa.metrics.F1Score(name=\"f1_score\",num_classes=2, threshold=0.5, average = \"micro\")})"
      ],
      "execution_count": null,
      "outputs": []
    },
    {
      "cell_type": "code",
      "metadata": {
        "id": "mN34E7-qNRjw",
        "colab": {
          "base_uri": "https://localhost:8080/"
        },
        "outputId": "8285f6ee-4d9a-4173-8138-6511fb0a3a46"
      },
      "source": [
        "#Training for washing machine\n",
        "import os\n",
        "checkpoint = '/gdrive/MyDrive/washing.ckpt'\n",
        "cdir = os.path.dirname(checkpoint)\n",
        "\n",
        "cp_callback = tf.keras.callbacks.ModelCheckpoint(\n",
        "    filepath=checkpoint, \n",
        "    verbose=1, \n",
        "    monitor='loss',\n",
        "    save_weights_only=False,\n",
        "    save_best_only=True)\n",
        "\n",
        "\n",
        "\n",
        "history = model.fit(train_dataset,epochs=3,callbacks=[cp_callback],verbose=1)"
      ],
      "execution_count": null,
      "outputs": [
        {
          "output_type": "stream",
          "name": "stdout",
          "text": [
            "Epoch 1/3\n",
            "79/79 [==============================] - 1514s 19s/step - loss: 0.4880 - ed_loss: 0.8929 - sd_loss: 0.2180 - ed_mean_absolute_error: 0.2477 - sd_f1_score: 0.0311\n",
            "\n",
            "Epoch 00001: loss improved from inf to 0.48797, saving model to /gdrive/MyDrive/washing.ckpt\n"
          ]
        },
        {
          "output_type": "stream",
          "name": "stderr",
          "text": [
            "WARNING:absl:Found untraced functions such as gru_cell_1_layer_call_fn, gru_cell_1_layer_call_and_return_conditional_losses, gru_cell_2_layer_call_fn, gru_cell_2_layer_call_and_return_conditional_losses, gru_cell_4_layer_call_fn while saving (showing 5 of 20). These functions will not be directly callable after loading.\n"
          ]
        },
        {
          "output_type": "stream",
          "name": "stdout",
          "text": [
            "INFO:tensorflow:Assets written to: /gdrive/MyDrive/washing.ckpt/assets\n"
          ]
        },
        {
          "output_type": "stream",
          "name": "stderr",
          "text": [
            "INFO:tensorflow:Assets written to: /gdrive/MyDrive/washing.ckpt/assets\n"
          ]
        },
        {
          "output_type": "stream",
          "name": "stdout",
          "text": [
            "Epoch 2/3\n",
            "79/79 [==============================] - 1492s 19s/step - loss: 0.4553 - ed_loss: 0.8576 - sd_loss: 0.1870 - ed_mean_absolute_error: 0.2198 - sd_f1_score: 0.0031\n",
            "\n",
            "Epoch 00002: loss improved from 0.48797 to 0.45525, saving model to /gdrive/MyDrive/washing.ckpt\n"
          ]
        },
        {
          "output_type": "stream",
          "name": "stderr",
          "text": [
            "WARNING:absl:Found untraced functions such as gru_cell_1_layer_call_fn, gru_cell_1_layer_call_and_return_conditional_losses, gru_cell_2_layer_call_fn, gru_cell_2_layer_call_and_return_conditional_losses, gru_cell_4_layer_call_fn while saving (showing 5 of 20). These functions will not be directly callable after loading.\n"
          ]
        },
        {
          "output_type": "stream",
          "name": "stdout",
          "text": [
            "INFO:tensorflow:Assets written to: /gdrive/MyDrive/washing.ckpt/assets\n"
          ]
        },
        {
          "output_type": "stream",
          "name": "stderr",
          "text": [
            "INFO:tensorflow:Assets written to: /gdrive/MyDrive/washing.ckpt/assets\n"
          ]
        },
        {
          "output_type": "stream",
          "name": "stdout",
          "text": [
            "Epoch 3/3\n",
            "79/79 [==============================] - 1513s 19s/step - loss: 0.4502 - ed_loss: 0.8473 - sd_loss: 0.1855 - ed_mean_absolute_error: 0.2088 - sd_f1_score: 0.0014\n",
            "\n",
            "Epoch 00003: loss improved from 0.45525 to 0.45019, saving model to /gdrive/MyDrive/washing.ckpt\n"
          ]
        },
        {
          "output_type": "stream",
          "name": "stderr",
          "text": [
            "WARNING:absl:Found untraced functions such as gru_cell_1_layer_call_fn, gru_cell_1_layer_call_and_return_conditional_losses, gru_cell_2_layer_call_fn, gru_cell_2_layer_call_and_return_conditional_losses, gru_cell_4_layer_call_fn while saving (showing 5 of 20). These functions will not be directly callable after loading.\n"
          ]
        },
        {
          "output_type": "stream",
          "name": "stdout",
          "text": [
            "INFO:tensorflow:Assets written to: /gdrive/MyDrive/washing.ckpt/assets\n"
          ]
        },
        {
          "output_type": "stream",
          "name": "stderr",
          "text": [
            "INFO:tensorflow:Assets written to: /gdrive/MyDrive/washing.ckpt/assets\n"
          ]
        }
      ]
    },
    {
      "cell_type": "code",
      "metadata": {
        "id": "abRujLhnBE0G",
        "colab": {
          "base_uri": "https://localhost:8080/"
        },
        "outputId": "9874eae1-131f-4355-9e40-289421ede58c"
      },
      "source": [
        "model.summary()"
      ],
      "execution_count": null,
      "outputs": [
        {
          "output_type": "stream",
          "name": "stdout",
          "text": [
            "Model: \"model_3\"\n",
            "__________________________________________________________________________________________________\n",
            "Layer (type)                    Output Shape         Param #     Connected to                     \n",
            "==================================================================================================\n",
            "input_1 (InputLayer)            [(None, 512, 2)]     0                                            \n",
            "__________________________________________________________________________________________________\n",
            "conv1d_3 (Conv1D)               (None, 512, 16)      112         input_1[0][0]                    \n",
            "__________________________________________________________________________________________________\n",
            "bidirectional_6 (Bidirectional) (None, 512, 256)     112128      conv1d_3[0][0]                   \n",
            "__________________________________________________________________________________________________\n",
            "bidirectional_7 (Bidirectional) (None, 512, 512)     789504      bidirectional_6[0][0]            \n",
            "__________________________________________________________________________________________________\n",
            "dense_3 (Dense)                 (None, 512, 128)     65664       bidirectional_7[0][0]            \n",
            "__________________________________________________________________________________________________\n",
            "ed (Dense)                      (None, 512, 1)       129         dense_3[0][0]                    \n",
            "__________________________________________________________________________________________________\n",
            "sd (Dense)                      (None, 512, 1)       129         dense_3[0][0]                    \n",
            "==================================================================================================\n",
            "Total params: 967,666\n",
            "Trainable params: 967,666\n",
            "Non-trainable params: 0\n",
            "__________________________________________________________________________________________________\n"
          ]
        }
      ]
    },
    {
      "cell_type": "code",
      "metadata": {
        "colab": {
          "base_uri": "https://localhost:8080/",
          "height": 159
        },
        "id": "LcP2v2AyUheU",
        "outputId": "b0e43d28-b0b9-478d-9fea-53498b5dfe6b"
      },
      "source": [
        "#plotting loss metrics \n",
        "import matplotlib.pyplot as plot\n",
        "plot.subplot(3,1,2)\n",
        "plot.plot(history.history['loss'])\n",
        "plot.plot(history.history['ed_loss'])\n",
        "plot.plot(history.history['sd_loss'])\n",
        "plot.title('model loss')\n",
        "plot.ylabel('loss')\n",
        "plot.xlabel('epoch')\n",
        "plot.legend(['overall', 'ed','sd'], loc='upper right')"
      ],
      "execution_count": null,
      "outputs": [
        {
          "output_type": "execute_result",
          "data": {
            "text/plain": [
              "<matplotlib.legend.Legend at 0x7f0de7dbe2d0>"
            ]
          },
          "metadata": {},
          "execution_count": 18
        },
        {
          "output_type": "display_data",
          "data": {
            "image/png": "[encoded data removed]",
            "text/plain": [
              "<Figure size 432x288 with 1 Axes>"
            ]
          },
          "metadata": {
            "needs_background": "light"
          }
        }
      ]
    },
    {
      "cell_type": "code",
      "metadata": {
        "colab": {
          "base_uri": "https://localhost:8080/",
          "height": 194
        },
        "id": "gNVTSn7NWD3p",
        "outputId": "51656834-46ff-4eda-ea05-d83bf6a6af8e"
      },
      "source": [
        "#plotting metrics\n",
        "plot.subplot(2,1,2)\n",
        "plot.plot(history.history['ed_mean_absolute_error'])\n",
        "plot.plot(history.history['sd_f1_score'])\n",
        "plot.title('model loss')\n",
        "plot.ylabel('loss')\n",
        "plot.xlabel('epoch')\n",
        "plot.legend(['MAE', 'F1'], loc='upper right')"
      ],
      "execution_count": null,
      "outputs": [
        {
          "output_type": "execute_result",
          "data": {
            "text/plain": [
              "<matplotlib.legend.Legend at 0x7f0de6be1810>"
            ]
          },
          "metadata": {},
          "execution_count": 19
        },
        {
          "output_type": "display_data",
          "data": {
            "image/png": "[encoded data removed]",
            "text/plain": [
              "<Figure size 432x288 with 1 Axes>"
            ]
          },
          "metadata": {
            "needs_background": "light"
          }
        }
      ]
    },
    {
      "cell_type": "code",
      "metadata": {
        "colab": {
          "base_uri": "https://localhost:8080/"
        },
        "id": "kbjQYcEKJidW",
        "outputId": "03ed7723-6737-4234-b237-ae79ed4e651a"
      },
      "source": [
        "result = model.evaluate(test_dataset)"
      ],
      "execution_count": null,
      "outputs": [
        {
          "output_type": "stream",
          "name": "stdout",
          "text": [
            "34/34 [==============================] - 180s 5s/step - loss: 0.5800 - ed_loss: 1.0549 - sd_loss: 0.2634 - ed_mean_absolute_error: 0.2828 - sd_f1_score: 0.0000e+00\n"
          ]
        }
      ]
    },
    {
      "cell_type": "code",
      "metadata": {
        "id": "apEp1tFsKmEW"
      },
      "source": [
        ""
      ],
      "execution_count": null,
      "outputs": []
    },
    {
      "cell_type": "code",
      "metadata": {
        "colab": {
          "base_uri": "https://localhost:8080/"
        },
        "id": "jpPvj82qJnGv",
        "outputId": "25aed6c6-d85e-480a-cb85-7e38be3ce01d"
      },
      "source": [
        "dict(zip(model.metrics_names, result))\n"
      ],
      "execution_count": null,
      "outputs": [
        {
          "output_type": "stream",
          "name": "stdout",
          "text": [
            "   Washing Machine Model Performance\n",
            "{'ed_loss': 1.054917573928833,\n",
            "'ed_mean_absolute_error': 0.2827630639076233,\n",
            "'loss': 0.5799944996833801,\n",
            "'sd_f1_score': 0.512915658957332,\n",
            "'sd_loss': 0.26337915658950806}\n"
          ]
        }
      ]
    },
    {
      "cell_type": "code",
      "metadata": {
        "colab": {
          "base_uri": "https://localhost:8080/"
        },
        "id": "tX8RHJr153JL",
        "outputId": "184bfad9-bc31-4120-dbab-6e8ea20a7d06"
      },
      "source": [
        "pred = model.predict(testdata,verbose=1)"
      ],
      "execution_count": null,
      "outputs": [
        {
          "output_type": "stream",
          "name": "stderr",
          "text": [
            "/usr/local/lib/python3.7/dist-packages/tensorflow/python/data/ops/dataset_ops.py:4212: UserWarning: Even though the `tf.config.experimental_run_functions_eagerly` option is set, this option does not apply to tf.data functions. To force eager execution of tf.data functions, please use `tf.data.experimental.enable_debug_mode()`.\n",
            "  \"Even though the `tf.config.experimental_run_functions_eagerly` \"\n"
          ]
        },
        {
          "output_type": "stream",
          "name": "stdout",
          "text": [
            "105/105 [==============================] - 312s 3s/step\n"
          ]
        }
      ]
    },
    {
      "cell_type": "code",
      "metadata": {
        "colab": {
          "base_uri": "https://localhost:8080/"
        },
        "id": "JgunLpIt0hEk",
        "outputId": "78183f06-d9a4-4501-d2a1-ff369872dc09"
      },
      "source": [
        "wtestnew "
      ],
      "execution_count": null,
      "outputs": [
        {
          "output_type": "execute_result",
          "data": {
            "text/plain": [
              "array([-22.563564], dtype=float32)"
            ]
          },
          "metadata": {},
          "execution_count": 28
        }
      ]
    },
    {
      "cell_type": "code",
      "metadata": {
        "id": "S_TkzuVJYwYi",
        "colab": {
          "base_uri": "https://localhost:8080/",
          "height": 194
        },
        "outputId": "29466f5d-69d9-4079-cd43-1fbac555ab79"
      },
      "source": [
        "import matplotlib.pyplot as plot\n",
        "\n",
        "prednew = (pred[0]*w.std())+w.mean()\n",
        "wtestnew = (wtest*w.std())+w.mean()\n",
        "# atest = (atest*a.std())+a.mean()\n",
        "\n",
        "predicted = prednew * pred[1]\n",
        "plot.subplot(2,1,2)\n",
        "plot.plot(wtestnew.flatten())\n",
        "plot.plot(predicted.flatten())\n",
        "#plot.plot(atest.flatten())\n",
        "plot.title('Washing Machine')\n",
        "plot.ylabel('Active Power (W)')\n",
        "plot.xlabel('Sample number')\n",
        "plot.legend(['actual','predicted'], loc='upper right')"
      ],
      "execution_count": null,
      "outputs": [
        {
          "output_type": "execute_result",
          "data": {
            "text/plain": [
              "<matplotlib.legend.Legend at 0x7fa1a8561890>"
            ]
          },
          "metadata": {},
          "execution_count": 32
        },
        {
          "output_type": "display_data",
          "data": {
            "image/png": "[encoded data removed]",
            "text/plain": [
              "<Figure size 432x288 with 1 Axes>"
            ]
          },
          "metadata": {
            "needs_background": "light"
          }
        }
      ]
    },
    {
      "cell_type": "code",
      "metadata": {
        "id": "V3R-3c-AY5fa"
      },
      "source": [
        "#loading the model\n",
        "import os\n",
        "import tensorflow_addons as tfa\n",
        "checkpoint = '/gdrive/MyDrive/washing.ckpt'\n",
        "cdir = os.path.dirname(checkpoint)\n",
        "latest = tf.train.latest_checkpoint(cdir)\n",
        "from tensorflow import keras\n",
        "model = keras.models.load_model('/gdrive/MyDrive/washing.ckpt',custom_objects={\"f1_score\":tfa.metrics.F1Score})"
      ],
      "execution_count": null,
      "outputs": []
    },
    {
      "cell_type": "markdown",
      "metadata": {
        "id": "43m20-CpvtPq"
      },
      "source": [
        "# **Dishwasher Model:**"
      ]
    },
    {
      "cell_type": "code",
      "metadata": {
        "id": "0Ayu6sMQwDJ_",
        "colab": {
          "base_uri": "https://localhost:8080/"
        },
        "outputId": "d93e5b36-834a-4775-ea21-1d17c8ee1a58"
      },
      "source": [
        "from google.colab import drive\n",
        "drive.mount('/gdrive')"
      ],
      "execution_count": null,
      "outputs": [
        {
          "output_type": "stream",
          "name": "stdout",
          "text": [
            "Mounted at /gdrive\n"
          ]
        }
      ]
    },
    {
      "cell_type": "code",
      "metadata": {
        "id": "8EZuklfyG42h"
      },
      "source": [
        "import tensorflow as tf\n",
        "tf.config.run_functions_eagerly(True)\n",
        "!pip install -U tensorflow-addons"
      ],
      "execution_count": null,
      "outputs": []
    },
    {
      "cell_type": "code",
      "metadata": {
        "id": "bstluwl8wELk"
      },
      "source": [
        "#loading the values\n",
        "import numpy as np\n",
        "fil = np.load('/gdrive/MyDrive/washdish.npz',allow_pickle=True)\n",
        "\n",
        "timetr,atr,dtr,wtr,dbtr,wbtr = fil['arr_0'],fil['arr_1'],fil['arr_2'],fil['arr_3'],fil['arr_4'],fil['arr_5']"
      ],
      "execution_count": null,
      "outputs": []
    },
    {
      "cell_type": "code",
      "metadata": {
        "id": "Ud78VaySGuDr"
      },
      "source": [
        "import numpy as np\n",
        "fil = np.load('/gdrive/MyDrive/washdishtest.npz',allow_pickle=True)\n",
        "\n",
        "timetest,atest,dtest,wtest,dbtest,wbtest = fil['arr_0'],fil['arr_1'],fil['arr_2'],fil['arr_3'],fil['arr_4'],fil['arr_5']"
      ],
      "execution_count": null,
      "outputs": []
    },
    {
      "cell_type": "code",
      "metadata": {
        "colab": {
          "base_uri": "https://localhost:8080/"
        },
        "id": "XZQc5SlhOHbU",
        "outputId": "7349e713-7989-4393-d1eb-5cd63221391b"
      },
      "source": [
        "np.shape(dtr) == np.shape(dbtr)"
      ],
      "execution_count": null,
      "outputs": [
        {
          "output_type": "execute_result",
          "data": {
            "text/plain": [
              "False"
            ]
          },
          "metadata": {},
          "execution_count": 48
        }
      ]
    },
    {
      "cell_type": "code",
      "metadata": {
        "id": "Q0Oa8LHMH5XA"
      },
      "source": [
        "dtr = np.reshape(dtr,[-1,512,1])\n",
        "dbtr = np.reshape(dbtr,[-1,512,1])"
      ],
      "execution_count": null,
      "outputs": []
    },
    {
      "cell_type": "code",
      "metadata": {
        "id": "ssKWy78sIAHQ"
      },
      "source": [
        "dtest = np.reshape(dtest,[-1,512,1])\n",
        "dbtest = np.reshape(dbtest,[-1,512,1])"
      ],
      "execution_count": null,
      "outputs": []
    },
    {
      "cell_type": "code",
      "metadata": {
        "id": "vAcRpFVhIp84"
      },
      "source": [
        "def prepare(a,b):\n",
        "  temp = []\n",
        "  t = np.shape(a)[0]\n",
        "  for i in range(t):\n",
        "    temp.append(list(zip(a[i],b[i])))\n",
        "  return np.array(temp)\n"
      ],
      "execution_count": null,
      "outputs": []
    },
    {
      "cell_type": "code",
      "metadata": {
        "id": "cpk5PUV0Ip85"
      },
      "source": [
        "traindata = prepare(timetr,atr)"
      ],
      "execution_count": null,
      "outputs": []
    },
    {
      "cell_type": "code",
      "metadata": {
        "id": "gl2TgLvBIp85"
      },
      "source": [
        "testdata = prepare(timetest,atest)"
      ],
      "execution_count": null,
      "outputs": []
    },
    {
      "cell_type": "code",
      "metadata": {
        "id": "_B8uTo7yIp85"
      },
      "source": [
        "\n",
        "train_dataset = tf.data.Dataset.from_tensor_slices(\n",
        "    (\n",
        "        {\"input_1\": traindata},\n",
        "        {\"ed\": dtr, \"sd\": dbtr},\n",
        "    )\n",
        ")\n",
        "train_dataset = train_dataset.batch(100)"
      ],
      "execution_count": null,
      "outputs": []
    },
    {
      "cell_type": "code",
      "metadata": {
        "colab": {
          "base_uri": "https://localhost:8080/"
        },
        "id": "q0QuYm7_K7T8",
        "outputId": "38d1fa93-880c-4c15-d972-07c075f1f785"
      },
      "source": [
        "np.shape(wbtr)"
      ],
      "execution_count": null,
      "outputs": [
        {
          "output_type": "execute_result",
          "data": {
            "text/plain": [
              "(7838, 512, 1)"
            ]
          },
          "metadata": {},
          "execution_count": 20
        }
      ]
    },
    {
      "cell_type": "code",
      "metadata": {
        "id": "3IiiuGHOIp86"
      },
      "source": [
        "test_dataset = tf.data.Dataset.from_tensor_slices(\n",
        "    (\n",
        "        {\"input_1\": testdata},\n",
        "        {\"ed\": dtest, \"sd\": dbtest},\n",
        "    )\n",
        ")\n",
        "test_dataset = test_dataset.batch(100)"
      ],
      "execution_count": null,
      "outputs": []
    },
    {
      "cell_type": "code",
      "metadata": {
        "id": "957LNUGsIp86"
      },
      "source": [
        "import tensorflow as tf\n",
        "import tensorflow_addons as tfa\n",
        "from tensorflow.keras import Input, Model\n",
        "\n",
        "\n",
        "input1 = tf.keras.layers.Input(shape=(512,2),name=\"input_1\")\n",
        "#input2 = tf.keras.layers.Input(shape=(None,512),name=\"input_2\")\n",
        "#inputs= tf.keras.layers.Concatenate(axis=0)([input1, input2])\n",
        "#inputs = tf.reshape(input1,[-1,512,1])\n",
        "x = tf.keras.layers.Conv1D(filters=16, kernel_size=3, strides=1, padding=\"causal\", activation=\"relu\",input_shape=(512,2))(input1)\n",
        "x = tf.keras.layers.Bidirectional(tf.keras.layers.GRU(128, activation=\"tanh\", return_sequences=True))(x)\n",
        "x = tf.keras.layers.Bidirectional(tf.keras.layers.GRU(256, activation=\"tanh\", return_sequences=True))(x)\n",
        "x = tf.keras.layers.Dense(128, activation=\"tanh\")(x)\n",
        "o1 = tf.keras.layers.Dense(1, activation=\"linear\",name=\"ed\")(x)\n",
        "o2 = tf.keras.layers.Dense(1, activation=\"sigmoid\",name=\"sd\")(x)\n",
        "\n",
        "model = Model(inputs=[input1], outputs=[o1, o2])\n",
        "\n",
        "model.compile(loss={'ed': 'mean_squared_error', \n",
        "                    'sd': 'binary_crossentropy'},\n",
        "              loss_weights={'ed':0.4,\n",
        "                            'sd':0.6},\n",
        "              optimizer='adam',\n",
        "              metrics={'ed': tf.keras.metrics.MeanAbsoluteError(name=\"mean_absolute_error\", dtype=None),\n",
        "                       'sd': tfa.metrics.F1Score(name=\"f1_score\",num_classes=2, threshold=0.5, average = \"micro\")})"
      ],
      "execution_count": null,
      "outputs": []
    },
    {
      "cell_type": "code",
      "metadata": {
        "colab": {
          "base_uri": "https://localhost:8080/"
        },
        "id": "VDG2krK-Ip86",
        "outputId": "8ebc1784-416a-4c39-f350-9a7647e97a3b"
      },
      "source": [
        "#Training for washing machine\n",
        "import os\n",
        "checkpoint = '/gdrive/MyDrive/dishwash.ckpt'\n",
        "cdir = os.path.dirname(checkpoint)\n",
        "\n",
        "cp_callback = tf.keras.callbacks.ModelCheckpoint(\n",
        "    filepath=checkpoint, \n",
        "    verbose=1, \n",
        "    monitor='loss',\n",
        "    save_weights_only=False,\n",
        "    save_best_only=True)\n",
        "\n",
        "\n",
        "\n",
        "history = model.fit(train_dataset,epochs=5,callbacks=[cp_callback],verbose=1)"
      ],
      "execution_count": null,
      "outputs": [
        {
          "metadata": {
            "tags": null
          },
          "name": "stdout",
          "output_type": "stream",
          "text": [
            "Epoch 1/5\n",
            "79/79 [==============================] - 1519s 19s/step - loss: 0.4072 - ed_loss: 0.6432 - sd_loss: 0.2498 - ed_mean_absolute_error: 0.2898 - sd_f1_score: 0.2171\n",
            "\n",
            "Epoch 00001: loss improved from inf to 0.40719, saving model to /gdrive/MyDrive/dishwash.ckpt\n"
          ]
        },
        {
          "metadata": {
            "tags": null
          },
          "name": "stderr",
          "output_type": "stream",
          "text": [
            "WARNING:absl:Found untraced functions such as gru_cell_1_layer_call_fn, gru_cell_1_layer_call_and_return_conditional_losses, gru_cell_2_layer_call_fn, gru_cell_2_layer_call_and_return_conditional_losses, gru_cell_4_layer_call_fn while saving (showing 5 of 20). These functions will not be directly callable after loading.\n"
          ]
        },
        {
          "metadata": {
            "tags": null
          },
          "name": "stdout",
          "output_type": "stream",
          "text": [
            "INFO:tensorflow:Assets written to: /gdrive/MyDrive/dishwash.ckpt/assets\n"
          ]
        },
        {
          "metadata": {
            "tags": null
          },
          "name": "stderr",
          "output_type": "stream",
          "text": [
            "INFO:tensorflow:Assets written to: /gdrive/MyDrive/dishwash.ckpt/assets\n"
          ]
        },
        {
          "output_type": "stream",
          "name": "stdout",
          "text": [
            "Epoch 2/5\n",
            "79/79 [==============================] - 1504s 19s/step - loss: 0.3453 - ed_loss: 0.5456 - sd_loss: 0.2117 - ed_mean_absolute_error: 0.2491 - sd_f1_score: 0.2741\n",
            "\n",
            "Epoch 00002: loss improved from 0.40719 to 0.34527, saving model to /gdrive/MyDrive/dishwash.ckpt\n"
          ]
        },
        {
          "output_type": "stream",
          "name": "stderr",
          "text": [
            "WARNING:absl:Found untraced functions such as gru_cell_1_layer_call_fn, gru_cell_1_layer_call_and_return_conditional_losses, gru_cell_2_layer_call_fn, gru_cell_2_layer_call_and_return_conditional_losses, gru_cell_4_layer_call_fn while saving (showing 5 of 20). These functions will not be directly callable after loading.\n"
          ]
        },
        {
          "output_type": "stream",
          "name": "stdout",
          "text": [
            "INFO:tensorflow:Assets written to: /gdrive/MyDrive/dishwash.ckpt/assets\n"
          ]
        },
        {
          "output_type": "stream",
          "name": "stderr",
          "text": [
            "INFO:tensorflow:Assets written to: /gdrive/MyDrive/dishwash.ckpt/assets\n"
          ]
        },
        {
          "output_type": "stream",
          "name": "stdout",
          "text": [
            "Epoch 3/5\n",
            "79/79 [==============================] - 1502s 19s/step - loss: 0.3115 - ed_loss: 0.4855 - sd_loss: 0.1956 - ed_mean_absolute_error: 0.2166 - sd_f1_score: 0.3831\n",
            "\n",
            "Epoch 00003: loss improved from 0.34527 to 0.31154, saving model to /gdrive/MyDrive/dishwash.ckpt\n"
          ]
        },
        {
          "output_type": "stream",
          "name": "stderr",
          "text": [
            "WARNING:absl:Found untraced functions such as gru_cell_1_layer_call_fn, gru_cell_1_layer_call_and_return_conditional_losses, gru_cell_2_layer_call_fn, gru_cell_2_layer_call_and_return_conditional_losses, gru_cell_4_layer_call_fn while saving (showing 5 of 20). These functions will not be directly callable after loading.\n"
          ]
        },
        {
          "output_type": "stream",
          "name": "stdout",
          "text": [
            "INFO:tensorflow:Assets written to: /gdrive/MyDrive/dishwash.ckpt/assets\n"
          ]
        },
        {
          "output_type": "stream",
          "name": "stderr",
          "text": [
            "INFO:tensorflow:Assets written to: /gdrive/MyDrive/dishwash.ckpt/assets\n"
          ]
        },
        {
          "output_type": "stream",
          "name": "stdout",
          "text": [
            "Epoch 4/5\n",
            "79/79 [==============================] - 1493s 19s/step - loss: 0.2431 - ed_loss: 0.4156 - sd_loss: 0.1281 - ed_mean_absolute_error: 0.2066 - sd_f1_score: 0.6534\n",
            "\n",
            "Epoch 00004: loss improved from 0.31154 to 0.24309, saving model to /gdrive/MyDrive/dishwash.ckpt\n"
          ]
        },
        {
          "output_type": "stream",
          "name": "stderr",
          "text": [
            "WARNING:absl:Found untraced functions such as gru_cell_1_layer_call_fn, gru_cell_1_layer_call_and_return_conditional_losses, gru_cell_2_layer_call_fn, gru_cell_2_layer_call_and_return_conditional_losses, gru_cell_4_layer_call_fn while saving (showing 5 of 20). These functions will not be directly callable after loading.\n"
          ]
        },
        {
          "output_type": "stream",
          "name": "stdout",
          "text": [
            "INFO:tensorflow:Assets written to: /gdrive/MyDrive/dishwash.ckpt/assets\n"
          ]
        },
        {
          "output_type": "stream",
          "name": "stderr",
          "text": [
            "INFO:tensorflow:Assets written to: /gdrive/MyDrive/dishwash.ckpt/assets\n"
          ]
        },
        {
          "output_type": "stream",
          "name": "stdout",
          "text": [
            "Epoch 5/5\n",
            "79/79 [==============================] - 1495s 19s/step - loss: 0.2142 - ed_loss: 0.3772 - sd_loss: 0.1055 - ed_mean_absolute_error: 0.2056 - sd_f1_score: 0.7077\n",
            "\n",
            "Epoch 00005: loss improved from 0.24309 to 0.21417, saving model to /gdrive/MyDrive/dishwash.ckpt\n"
          ]
        },
        {
          "output_type": "stream",
          "name": "stderr",
          "text": [
            "WARNING:absl:Found untraced functions such as gru_cell_1_layer_call_fn, gru_cell_1_layer_call_and_return_conditional_losses, gru_cell_2_layer_call_fn, gru_cell_2_layer_call_and_return_conditional_losses, gru_cell_4_layer_call_fn while saving (showing 5 of 20). These functions will not be directly callable after loading.\n"
          ]
        },
        {
          "output_type": "stream",
          "name": "stdout",
          "text": [
            "INFO:tensorflow:Assets written to: /gdrive/MyDrive/dishwash.ckpt/assets\n"
          ]
        },
        {
          "output_type": "stream",
          "name": "stderr",
          "text": [
            "INFO:tensorflow:Assets written to: /gdrive/MyDrive/dishwash.ckpt/assets\n"
          ]
        }
      ]
    },
    {
      "cell_type": "code",
      "metadata": {
        "colab": {
          "base_uri": "https://localhost:8080/"
        },
        "id": "CzieddBoIp87",
        "outputId": "263f135d-a941-40a1-9df0-5fcc396caa32"
      },
      "source": [
        "model.summary()"
      ],
      "execution_count": null,
      "outputs": [
        {
          "output_type": "stream",
          "name": "stdout",
          "text": [
            "Model: \"model\"\n",
            "__________________________________________________________________________________________________\n",
            "Layer (type)                    Output Shape         Param #     Connected to                     \n",
            "==================================================================================================\n",
            "input_1 (InputLayer)            [(None, 512, 2)]     0                                            \n",
            "__________________________________________________________________________________________________\n",
            "conv1d (Conv1D)                 (None, 512, 16)      112         input_1[0][0]                    \n",
            "__________________________________________________________________________________________________\n",
            "bidirectional (Bidirectional)   (None, 512, 256)     112128      conv1d[0][0]                     \n",
            "__________________________________________________________________________________________________\n",
            "bidirectional_1 (Bidirectional) (None, 512, 512)     789504      bidirectional[0][0]              \n",
            "__________________________________________________________________________________________________\n",
            "dense (Dense)                   (None, 512, 128)     65664       bidirectional_1[0][0]            \n",
            "__________________________________________________________________________________________________\n",
            "ed (Dense)                      (None, 512, 1)       129         dense[0][0]                      \n",
            "__________________________________________________________________________________________________\n",
            "sd (Dense)                      (None, 512, 1)       129         dense[0][0]                      \n",
            "==================================================================================================\n",
            "Total params: 967,666\n",
            "Trainable params: 967,666\n",
            "Non-trainable params: 0\n",
            "__________________________________________________________________________________________________\n"
          ]
        }
      ]
    },
    {
      "cell_type": "code",
      "metadata": {
        "colab": {
          "base_uri": "https://localhost:8080/",
          "height": 159
        },
        "id": "_l3G1IhIIp88",
        "outputId": "60da434b-8261-40a0-8429-e4709d6426a2"
      },
      "source": [
        "#plotting loss metrics \n",
        "import matplotlib.pyplot as plot\n",
        "plot.subplot(3,1,2)\n",
        "plot.plot(history.history['loss'])\n",
        "plot.plot(history.history['ed_loss'])\n",
        "plot.plot(history.history['sd_loss'])\n",
        "plot.title('model loss')\n",
        "plot.ylabel('loss')\n",
        "plot.xlabel('epoch')\n",
        "plot.legend(['overall', 'ed','sd'], loc='upper right')"
      ],
      "execution_count": null,
      "outputs": [
        {
          "output_type": "execute_result",
          "data": {
            "text/plain": [
              "<matplotlib.legend.Legend at 0x7f641f2bc6d0>"
            ]
          },
          "metadata": {},
          "execution_count": 18
        },
        {
          "output_type": "display_data",
          "data": {
            "image/png": "[encoded data removed]",
            "text/plain": [
              "<Figure size 432x288 with 1 Axes>"
            ]
          },
          "metadata": {
            "needs_background": "light"
          }
        }
      ]
    },
    {
      "cell_type": "code",
      "metadata": {
        "colab": {
          "base_uri": "https://localhost:8080/",
          "height": 194
        },
        "id": "qPoBOQIzIp88",
        "outputId": "424197eb-275e-46c8-fa77-133692961293"
      },
      "source": [
        "#plotting metrics\n",
        "plot.subplot(2,1,2)\n",
        "plot.plot(history.history['ed_mean_absolute_error'])\n",
        "plot.plot(history.history['sd_f1_score'])\n",
        "plot.title('model loss')\n",
        "plot.ylabel('metric score')\n",
        "plot.xlabel('epoch')\n",
        "plot.legend(['MAE', 'F1'], loc='upper right')"
      ],
      "execution_count": null,
      "outputs": [
        {
          "output_type": "execute_result",
          "data": {
            "text/plain": [
              "<matplotlib.legend.Legend at 0x7f6455ee9fd0>"
            ]
          },
          "metadata": {},
          "execution_count": 19
        },
        {
          "output_type": "display_data",
          "data": {
            "image/png": "[encoded data removed]",
            "text/plain": [
              "<Figure size 432x288 with 1 Axes>"
            ]
          },
          "metadata": {
            "needs_background": "light"
          }
        }
      ]
    },
    {
      "cell_type": "code",
      "metadata": {
        "colab": {
          "base_uri": "https://localhost:8080/"
        },
        "id": "ysOoFdlSIp88",
        "outputId": "94f93f77-4720-4354-d3be-07e0c615bc24"
      },
      "source": [
        "result = model.evaluate(test_dataset)"
      ],
      "execution_count": null,
      "outputs": [
        {
          "output_type": "stream",
          "name": "stdout",
          "text": [
            "34/34 [==============================] - 196s 6s/step - loss: 0.4730 - ed_loss: 0.7970 - sd_loss: 0.2570 - ed_mean_absolute_error: 0.2053 - sd_f1_score: 0.3965\n"
          ]
        }
      ]
    },
    {
      "cell_type": "code",
      "metadata": {
        "colab": {
          "base_uri": "https://localhost:8080/"
        },
        "id": "NFuUkSalIp89",
        "outputId": "b8c15673-b2f5-4e5f-a59e-b0ce458b41a2"
      },
      "source": [
        "dict(zip(model.metrics_names, result))"
      ],
      "execution_count": null,
      "outputs": [
        {
          "output_type": "stream",
          "name": "stdout",
          "text": [
            "   Dishwasher Model Performance\n",
            "{'ed_loss': 0.7969693541526794,\n",
            "'ed_mean_absolute_error': 0.20528985559940338,\n",
            "'loss': 0.4729871153831482,\n",
            "'sd_f1_score': 0.7964914381504059,\n",
            "'sd_loss': 0.25699901580810547}'\n"
          ]
        }
      ]
    },
    {
      "cell_type": "code",
      "metadata": {
        "colab": {
          "base_uri": "https://localhost:8080/"
        },
        "id": "0AiSyadFIp89",
        "outputId": "021ac006-eda4-46de-922c-25eaa7b8cfe2"
      },
      "source": [
        "pred = model.predict(testdata,verbose=1)"
      ],
      "execution_count": null,
      "outputs": [
        {
          "output_type": "stream",
          "name": "stderr",
          "text": [
            "/usr/local/lib/python3.7/dist-packages/tensorflow/python/data/ops/dataset_ops.py:4212: UserWarning: Even though the `tf.config.experimental_run_functions_eagerly` option is set, this option does not apply to tf.data functions. To force eager execution of tf.data functions, please use `tf.data.experimental.enable_debug_mode()`.\n",
            "  \"Even though the `tf.config.experimental_run_functions_eagerly` \"\n"
          ]
        },
        {
          "output_type": "stream",
          "name": "stdout",
          "text": [
            "105/105 [==============================] - 397s 4s/step\n"
          ]
        }
      ]
    },
    {
      "cell_type": "code",
      "metadata": {
        "colab": {
          "base_uri": "https://localhost:8080/",
          "height": 194
        },
        "id": "nJAS4ovaJO0p",
        "outputId": "6f372ed8-32e5-45d8-b191-8773006c06b0"
      },
      "source": [
        "import matplotlib.pyplot as plot\n",
        "\n",
        "prednew = (pred[0]*d.std())+d.mean()\n",
        "dtestnew = (dtest*d.std())+d.mean()\n",
        "# atest = (atest*a.std())+a.mean()\n",
        "\n",
        "pred[1] = (pred[1]>0.5).astype(np.float)\n",
        "predicted = prednew * pred[1]\n",
        "plot.subplot(2,1,2)\n",
        "plot.plot(dtestnew.flatten())\n",
        "plot.plot(predicted.flatten())\n",
        "#plot.plot(atest.flatten())\n",
        "plot.title('Dishwasher')\n",
        "plot.ylabel('Active Power (W)')\n",
        "plot.xlabel('Sample number')\n",
        "plot.legend(['actual', 'predicted'], loc='upper right')"
      ],
      "execution_count": null,
      "outputs": [
        {
          "output_type": "execute_result",
          "data": {
            "text/plain": [
              "<matplotlib.legend.Legend at 0x7fa1abd3d590>"
            ]
          },
          "metadata": {},
          "execution_count": 41
        },
        {
          "output_type": "display_data",
          "data": {
            "image/png": "[encoded data removed]",
            "text/plain": [
              "<Figure size 432x288 with 1 Axes>"
            ]
          },
          "metadata": {
            "needs_background": "light"
          }
        }
      ]
    },
    {
      "cell_type": "code",
      "metadata": {
        "id": "RATpcOovJO0r"
      },
      "source": [
        "import os\n",
        "import tensorflow_addons as tfa\n",
        "checkpoint = '/gdrive/MyDrive/dishwash.ckpt'\n",
        "cdir = os.path.dirname(checkpoint)\n",
        "latest = tf.train.latest_checkpoint(cdir)\n",
        "from tensorflow import keras\n",
        "model = keras.models.load_model('/gdrive/MyDrive/dishwash.ckpt',custom_objects={\"f1_score\":tfa.metrics.F1Score})"
      ],
      "execution_count": null,
      "outputs": []
    },
    {
      "cell_type": "markdown",
      "metadata": {
        "id": "70fwZP18A1Lr"
      },
      "source": [
        "# **Toaster Model:**"
      ]
    },
    {
      "cell_type": "code",
      "metadata": {
        "colab": {
          "base_uri": "https://localhost:8080/"
        },
        "id": "MY2EMDX6EY9z",
        "outputId": "aa5e935c-4cfc-4689-96ec-6bae01e6b8eb"
      },
      "source": [
        "from google.colab import drive\n",
        "drive.mount('/gdrive')"
      ],
      "execution_count": null,
      "outputs": [
        {
          "output_type": "stream",
          "name": "stdout",
          "text": [
            "Mounted at /gdrive\n"
          ]
        }
      ]
    },
    {
      "cell_type": "code",
      "metadata": {
        "id": "enEUTEr3EY91",
        "colab": {
          "base_uri": "https://localhost:8080/"
        },
        "outputId": "90b97fb2-c54f-4de3-fbba-fefc057697ca"
      },
      "source": [
        "import tensorflow as tf\n",
        "tf.config.run_functions_eagerly(True)\n",
        "!pip install -U tensorflow-addons"
      ],
      "execution_count": null,
      "outputs": [
        {
          "output_type": "stream",
          "name": "stdout",
          "text": [
            "Collecting tensorflow-addons\n",
            "  Downloading tensorflow_addons-0.14.0-cp37-cp37m-manylinux_2_12_x86_64.manylinux2010_x86_64.whl (1.1 MB)\n",
            "\u001b[K     |████████████████████████████████| 1.1 MB 4.1 MB/s \n",
            "\u001b[?25hRequirement already satisfied: typeguard>=2.7 in /usr/local/lib/python3.7/dist-packages (from tensorflow-addons) (2.7.1)\n",
            "Installing collected packages: tensorflow-addons\n",
            "Successfully installed tensorflow-addons-0.14.0\n"
          ]
        }
      ]
    },
    {
      "cell_type": "code",
      "metadata": {
        "id": "1_DwY7KfEY91"
      },
      "source": [
        "#loading the values\n",
        "import numpy as np\n",
        "fil = np.load('/gdrive/MyDrive/toastmicro.npz',allow_pickle=True)\n",
        "\n",
        "timetr , atr , mbtr ,kbtr ,tbtr , mtr ,ktr ,ttr = fil['arr_0'],fil['arr_1'],fil['arr_2'],fil['arr_3'],fil['arr_4'],fil['arr_5'],fil['arr_6'],fil['arr_7']"
      ],
      "execution_count": null,
      "outputs": []
    },
    {
      "cell_type": "code",
      "metadata": {
        "id": "RsMGxI16EY92"
      },
      "source": [
        "import numpy as np\n",
        "fil = np.load('/gdrive/MyDrive/toastmicrotest.npz',allow_pickle=True)\n",
        "\n",
        "timetest , atest , mbtest ,kbtest ,tbtest , mtest ,ktest ,ttest = fil['arr_0'],fil['arr_1'],fil['arr_2'],fil['arr_3'],fil['arr_4'],fil['arr_5'],fil['arr_6'],fil['arr_7']"
      ],
      "execution_count": null,
      "outputs": []
    },
    {
      "cell_type": "code",
      "metadata": {
        "id": "ZmNsV5lUEY92"
      },
      "source": [
        "ttr = np.reshape(ttr,[-1,128,1])\n",
        "tbtr = np.reshape(tbtr,[-1,128,1])"
      ],
      "execution_count": null,
      "outputs": []
    },
    {
      "cell_type": "code",
      "metadata": {
        "id": "7huObS5vEY93"
      },
      "source": [
        "ttest = np.reshape(ttest,[-1,128,1])\n",
        "tbtest = np.reshape(tbtest,[-1,128,1])"
      ],
      "execution_count": null,
      "outputs": []
    },
    {
      "cell_type": "code",
      "metadata": {
        "id": "Y-rRPhpDEY93"
      },
      "source": [
        "def prepare(a,b):\n",
        "  temp = []\n",
        "  t = np.shape(a)[0]\n",
        "  for i in range(t):\n",
        "    temp.append(list(zip(a[i],b[i])))\n",
        "  return np.array(temp)\n"
      ],
      "execution_count": null,
      "outputs": []
    },
    {
      "cell_type": "code",
      "metadata": {
        "id": "r9E0Ao4VEY93"
      },
      "source": [
        "traindata = prepare(timetr,atr)"
      ],
      "execution_count": null,
      "outputs": []
    },
    {
      "cell_type": "code",
      "metadata": {
        "id": "7WlzL8f0EY93"
      },
      "source": [
        "testdata = prepare(timetest,atest)"
      ],
      "execution_count": null,
      "outputs": []
    },
    {
      "cell_type": "code",
      "metadata": {
        "id": "o54TM-vLEY93"
      },
      "source": [
        "\n",
        "train_dataset = tf.data.Dataset.from_tensor_slices(\n",
        "    (\n",
        "        {\"input_1\": traindata},\n",
        "        {\"ed\": ttr, \"sd\": tbtr},\n",
        "    )\n",
        ")\n",
        "train_dataset = train_dataset.batch(100)"
      ],
      "execution_count": null,
      "outputs": []
    },
    {
      "cell_type": "code",
      "metadata": {
        "id": "_1R8tZ8NEY94"
      },
      "source": [
        "test_dataset = tf.data.Dataset.from_tensor_slices(\n",
        "    (\n",
        "        {\"input_1\": testdata},\n",
        "        {\"ed\": ttest, \"sd\": tbtest},\n",
        "    )\n",
        ")\n",
        "test_dataset = test_dataset.batch(100)"
      ],
      "execution_count": null,
      "outputs": []
    },
    {
      "cell_type": "code",
      "metadata": {
        "id": "11NuZfcCEY94"
      },
      "source": [
        "import tensorflow as tf\n",
        "import tensorflow_addons as tfa\n",
        "from tensorflow.keras import Input, Model\n",
        "\n",
        "\n",
        "input1 = tf.keras.layers.Input(shape=(128,2),name=\"input_1\")\n",
        "#input2 = tf.keras.layers.Input(shape=(None,512),name=\"input_2\")\n",
        "#inputs= tf.keras.layers.Concatenate(axis=0)([input1, input2])\n",
        "#inputs = tf.reshape(input1,[-1,512,1])\n",
        "x = tf.keras.layers.Conv1D(filters=16, kernel_size=3, strides=1, padding=\"causal\", activation=\"relu\",input_shape=(128,2))(input1)\n",
        "x = tf.keras.layers.Bidirectional(tf.keras.layers.GRU(128, activation=\"tanh\", return_sequences=True))(x)\n",
        "x = tf.keras.layers.Bidirectional(tf.keras.layers.GRU(256, activation=\"tanh\", return_sequences=True))(x)\n",
        "x = tf.keras.layers.Dense(128, activation=\"tanh\")(x)\n",
        "o1 = tf.keras.layers.Dense(1, activation=\"linear\",name=\"ed\")(x)\n",
        "o2 = tf.keras.layers.Dense(1, activation=\"sigmoid\",name=\"sd\")(x)\n",
        "\n",
        "model = Model(inputs=[input1], outputs=[o1, o2])\n",
        "\n",
        "model.compile(loss={'ed': 'mean_squared_error', \n",
        "                    'sd': 'binary_crossentropy'},\n",
        "              loss_weights={'ed':0.4,\n",
        "                            'sd':0.6},\n",
        "              optimizer='adam',\n",
        "              metrics={'ed': tf.keras.metrics.MeanAbsoluteError(name=\"mean_absolute_error\", dtype=None),\n",
        "                       'sd': tfa.metrics.F1Score(name=\"f1_score\",num_classes=2, threshold=0.5, average = \"micro\")})"
      ],
      "execution_count": null,
      "outputs": []
    },
    {
      "cell_type": "code",
      "metadata": {
        "colab": {
          "base_uri": "https://localhost:8080/"
        },
        "id": "rzNo0HsnEY95",
        "outputId": "68fad336-03c5-4909-efc6-0f88a419abdc"
      },
      "source": [
        "#Training for washing machine\n",
        "import os\n",
        "checkpoint = '/gdrive/MyDrive/toaster.ckpt'\n",
        "cdir = os.path.dirname(checkpoint)\n",
        "\n",
        "cp_callback = tf.keras.callbacks.ModelCheckpoint(\n",
        "    filepath=checkpoint, \n",
        "    verbose=1, \n",
        "    monitor='loss',\n",
        "    save_weights_only=False,\n",
        "    save_best_only=True)\n",
        "\n",
        "\n",
        "\n",
        "history = model.fit(train_dataset,epochs=5,callbacks=[cp_callback],verbose=1)"
      ],
      "execution_count": null,
      "outputs": [
        {
          "output_type": "stream",
          "name": "stdout",
          "text": [
            "Epoch 1/5\n",
            "314/314 [==============================] - 1430s 5s/step - loss: 0.2100 - ed_loss: 0.4749 - sd_loss: 0.0334 - ed_mean_absolute_error: 0.1532 - sd_f1_score: 0.5473\n",
            "\n",
            "Epoch 00001: loss improved from inf to 0.20996, saving model to /gdrive/MyDrive/toaster.ckpt\n"
          ]
        },
        {
          "output_type": "stream",
          "name": "stderr",
          "text": [
            "WARNING:absl:Found untraced functions such as gru_cell_13_layer_call_fn, gru_cell_13_layer_call_and_return_conditional_losses, gru_cell_14_layer_call_fn, gru_cell_14_layer_call_and_return_conditional_losses, gru_cell_16_layer_call_fn while saving (showing 5 of 20). These functions will not be directly callable after loading.\n"
          ]
        },
        {
          "output_type": "stream",
          "name": "stdout",
          "text": [
            "INFO:tensorflow:Assets written to: /gdrive/MyDrive/toaster.ckpt/assets\n"
          ]
        },
        {
          "output_type": "stream",
          "name": "stderr",
          "text": [
            "INFO:tensorflow:Assets written to: /gdrive/MyDrive/toaster.ckpt/assets\n"
          ]
        },
        {
          "output_type": "stream",
          "name": "stdout",
          "text": [
            "Epoch 2/5\n",
            "314/314 [==============================] - 1431s 5s/step - loss: 0.1015 - ed_loss: 0.2322 - sd_loss: 0.0143 - ed_mean_absolute_error: 0.0724 - sd_f1_score: 0.8154\n",
            "\n",
            "Epoch 00002: loss improved from 0.20996 to 0.10150, saving model to /gdrive/MyDrive/toaster.ckpt\n"
          ]
        },
        {
          "output_type": "stream",
          "name": "stderr",
          "text": [
            "WARNING:absl:Found untraced functions such as gru_cell_13_layer_call_fn, gru_cell_13_layer_call_and_return_conditional_losses, gru_cell_14_layer_call_fn, gru_cell_14_layer_call_and_return_conditional_losses, gru_cell_16_layer_call_fn while saving (showing 5 of 20). These functions will not be directly callable after loading.\n"
          ]
        },
        {
          "output_type": "stream",
          "name": "stdout",
          "text": [
            "INFO:tensorflow:Assets written to: /gdrive/MyDrive/toaster.ckpt/assets\n"
          ]
        },
        {
          "output_type": "stream",
          "name": "stderr",
          "text": [
            "INFO:tensorflow:Assets written to: /gdrive/MyDrive/toaster.ckpt/assets\n"
          ]
        },
        {
          "output_type": "stream",
          "name": "stdout",
          "text": [
            "Epoch 3/5\n",
            "314/314 [==============================] - 1423s 5s/step - loss: 0.0893 - ed_loss: 0.2042 - sd_loss: 0.0127 - ed_mean_absolute_error: 0.0602 - sd_f1_score: 0.8379\n",
            "\n",
            "Epoch 00003: loss improved from 0.10150 to 0.08930, saving model to /gdrive/MyDrive/toaster.ckpt\n"
          ]
        },
        {
          "output_type": "stream",
          "name": "stderr",
          "text": [
            "WARNING:absl:Found untraced functions such as gru_cell_13_layer_call_fn, gru_cell_13_layer_call_and_return_conditional_losses, gru_cell_14_layer_call_fn, gru_cell_14_layer_call_and_return_conditional_losses, gru_cell_16_layer_call_fn while saving (showing 5 of 20). These functions will not be directly callable after loading.\n"
          ]
        },
        {
          "output_type": "stream",
          "name": "stdout",
          "text": [
            "INFO:tensorflow:Assets written to: /gdrive/MyDrive/toaster.ckpt/assets\n"
          ]
        },
        {
          "output_type": "stream",
          "name": "stderr",
          "text": [
            "INFO:tensorflow:Assets written to: /gdrive/MyDrive/toaster.ckpt/assets\n"
          ]
        },
        {
          "output_type": "stream",
          "name": "stdout",
          "text": [
            "Epoch 4/5\n",
            "314/314 [==============================] - 1423s 5s/step - loss: 0.0777 - ed_loss: 0.1771 - sd_loss: 0.0114 - ed_mean_absolute_error: 0.0468 - sd_f1_score: 0.8572\n",
            "\n",
            "Epoch 00004: loss improved from 0.08930 to 0.07765, saving model to /gdrive/MyDrive/toaster.ckpt\n"
          ]
        },
        {
          "output_type": "stream",
          "name": "stderr",
          "text": [
            "WARNING:absl:Found untraced functions such as gru_cell_13_layer_call_fn, gru_cell_13_layer_call_and_return_conditional_losses, gru_cell_14_layer_call_fn, gru_cell_14_layer_call_and_return_conditional_losses, gru_cell_16_layer_call_fn while saving (showing 5 of 20). These functions will not be directly callable after loading.\n"
          ]
        },
        {
          "output_type": "stream",
          "name": "stdout",
          "text": [
            "INFO:tensorflow:Assets written to: /gdrive/MyDrive/toaster.ckpt/assets\n"
          ]
        },
        {
          "output_type": "stream",
          "name": "stderr",
          "text": [
            "INFO:tensorflow:Assets written to: /gdrive/MyDrive/toaster.ckpt/assets\n"
          ]
        },
        {
          "output_type": "stream",
          "name": "stdout",
          "text": [
            "Epoch 5/5\n",
            "314/314 [==============================] - 1424s 5s/step - loss: 0.0732 - ed_loss: 0.1670 - sd_loss: 0.0108 - ed_mean_absolute_error: 0.0433 - sd_f1_score: 0.8649\n",
            "\n",
            "Epoch 00005: loss improved from 0.07765 to 0.07325, saving model to /gdrive/MyDrive/toaster.ckpt\n"
          ]
        },
        {
          "output_type": "stream",
          "name": "stderr",
          "text": [
            "WARNING:absl:Found untraced functions such as gru_cell_13_layer_call_fn, gru_cell_13_layer_call_and_return_conditional_losses, gru_cell_14_layer_call_fn, gru_cell_14_layer_call_and_return_conditional_losses, gru_cell_16_layer_call_fn while saving (showing 5 of 20). These functions will not be directly callable after loading.\n"
          ]
        },
        {
          "output_type": "stream",
          "name": "stdout",
          "text": [
            "INFO:tensorflow:Assets written to: /gdrive/MyDrive/toaster.ckpt/assets\n"
          ]
        },
        {
          "output_type": "stream",
          "name": "stderr",
          "text": [
            "INFO:tensorflow:Assets written to: /gdrive/MyDrive/toaster.ckpt/assets\n"
          ]
        }
      ]
    },
    {
      "cell_type": "code",
      "metadata": {
        "colab": {
          "base_uri": "https://localhost:8080/"
        },
        "id": "20xUk46gEY95",
        "outputId": "c4737ccc-65cc-4dda-daea-208d50c3ca1a"
      },
      "source": [
        "model.summary()"
      ],
      "execution_count": null,
      "outputs": [
        {
          "output_type": "stream",
          "name": "stdout",
          "text": [
            "Model: \"model_2\"\n",
            "__________________________________________________________________________________________________\n",
            "Layer (type)                    Output Shape         Param #     Connected to                     \n",
            "==================================================================================================\n",
            "input_1 (InputLayer)            [(None, 128, 2)]     0                                            \n",
            "__________________________________________________________________________________________________\n",
            "conv1d_2 (Conv1D)               (None, 128, 16)      112         input_1[0][0]                    \n",
            "__________________________________________________________________________________________________\n",
            "bidirectional_4 (Bidirectional) (None, 128, 256)     112128      conv1d_2[0][0]                   \n",
            "__________________________________________________________________________________________________\n",
            "bidirectional_5 (Bidirectional) (None, 128, 512)     789504      bidirectional_4[0][0]            \n",
            "__________________________________________________________________________________________________\n",
            "dense_2 (Dense)                 (None, 128, 128)     65664       bidirectional_5[0][0]            \n",
            "__________________________________________________________________________________________________\n",
            "ed (Dense)                      (None, 128, 1)       129         dense_2[0][0]                    \n",
            "__________________________________________________________________________________________________\n",
            "sd (Dense)                      (None, 128, 1)       129         dense_2[0][0]                    \n",
            "==================================================================================================\n",
            "Total params: 967,666\n",
            "Trainable params: 967,666\n",
            "Non-trainable params: 0\n",
            "__________________________________________________________________________________________________\n"
          ]
        }
      ]
    },
    {
      "cell_type": "code",
      "metadata": {
        "colab": {
          "base_uri": "https://localhost:8080/",
          "height": 159
        },
        "id": "r_adfK1KEY95",
        "outputId": "9a0bcf2d-50fa-4b55-96da-910437c1680a"
      },
      "source": [
        "#plotting loss metrics \n",
        "import matplotlib.pyplot as plot\n",
        "plot.subplot(3,1,2)\n",
        "plot.plot(history.history['loss'])\n",
        "plot.plot(history.history['ed_loss'])\n",
        "plot.plot(history.history['sd_loss'])\n",
        "plot.title('model loss')\n",
        "plot.ylabel('loss')\n",
        "plot.xlabel('epoch')\n",
        "plot.legend(['overall', 'ed','sd'], loc='upper right')"
      ],
      "execution_count": null,
      "outputs": [
        {
          "output_type": "execute_result",
          "data": {
            "text/plain": [
              "<matplotlib.legend.Legend at 0x7f6456e62b10>"
            ]
          },
          "metadata": {},
          "execution_count": 54
        },
        {
          "output_type": "display_data",
          "data": {
            "image/png": "[encoded data removed]",
            "text/plain": [
              "<Figure size 432x288 with 1 Axes>"
            ]
          },
          "metadata": {
            "needs_background": "light"
          }
        }
      ]
    },
    {
      "cell_type": "code",
      "metadata": {
        "colab": {
          "base_uri": "https://localhost:8080/",
          "height": 194
        },
        "id": "gRYQwfB6EY96",
        "outputId": "e4c3a8b7-8be0-46b3-d694-594448cece8a"
      },
      "source": [
        "#plotting metrics\n",
        "plot.subplot(2,1,2)\n",
        "plot.plot(history.history['ed_mean_absolute_error'])\n",
        "plot.plot(history.history['sd_f1_score'])\n",
        "plot.title('model loss')\n",
        "plot.ylabel('metric score')\n",
        "plot.xlabel('epoch')\n",
        "plot.legend(['MAE', 'F1'], loc='upper right')"
      ],
      "execution_count": null,
      "outputs": [
        {
          "output_type": "execute_result",
          "data": {
            "text/plain": [
              "<matplotlib.legend.Legend at 0x7f641c502810>"
            ]
          },
          "metadata": {},
          "execution_count": 55
        },
        {
          "output_type": "display_data",
          "data": {
            "image/png": "[encoded data removed]",
            "text/plain": [
              "<Figure size 432x288 with 1 Axes>"
            ]
          },
          "metadata": {
            "needs_background": "light"
          }
        }
      ]
    },
    {
      "cell_type": "code",
      "metadata": {
        "colab": {
          "base_uri": "https://localhost:8080/"
        },
        "id": "AVuc9LIsEY96",
        "outputId": "11f6c575-a4dd-4718-f670-9868e8ef17c5"
      },
      "source": [
        "result = model.evaluate(test_dataset)"
      ],
      "execution_count": null,
      "outputs": [
        {
          "output_type": "stream",
          "name": "stdout",
          "text": [
            "135/135 [==============================] - 199s 1s/step - loss: 0.0850 - ed_loss: 0.1889 - sd_loss: 0.0157 - ed_mean_absolute_error: 0.0461 - sd_f1_score: 0.8206\n"
          ]
        }
      ]
    },
    {
      "cell_type": "code",
      "metadata": {
        "colab": {
          "base_uri": "https://localhost:8080/"
        },
        "id": "LQvRKV9aEY96",
        "outputId": "7bd42b27-07af-49f0-9f68-d82f817240af"
      },
      "source": [
        "dict(zip(model.metrics_names, result))\n"
      ],
      "execution_count": null,
      "outputs": [
        {
          "output_type": "stream",
          "name": "stdout",
          "text": [
            "   Toaster Model Performance\n",
            "{'ed_loss': 0.18885447084903717,\n",
            "'ed_mean_absolute_error': 0.046101465821266174,\n",
            "'loss': 0.08496434986591339,\n",
            "'sd_f1_score': 0.8205962777137756,\n",
            "'sd_loss': 0.015704235062003136}\n"
          ]
        }
      ]
    },
    {
      "cell_type": "code",
      "metadata": {
        "colab": {
          "base_uri": "https://localhost:8080/"
        },
        "id": "oZihFpH8EY96",
        "outputId": "c7eafe22-f6b2-4723-b649-ba94d5e61959"
      },
      "source": [
        "pred = model.predict(testdata,verbose=1)"
      ],
      "execution_count": null,
      "outputs": [
        {
          "output_type": "stream",
          "name": "stderr",
          "text": [
            "/usr/local/lib/python3.7/dist-packages/tensorflow/python/data/ops/dataset_ops.py:4212: UserWarning: Even though the `tf.config.experimental_run_functions_eagerly` option is set, this option does not apply to tf.data functions. To force eager execution of tf.data functions, please use `tf.data.experimental.enable_debug_mode()`.\n",
            "  \"Even though the `tf.config.experimental_run_functions_eagerly` \"\n"
          ]
        },
        {
          "output_type": "stream",
          "name": "stdout",
          "text": [
            "420/420 [==============================] - 363s 863ms/step\n"
          ]
        }
      ]
    },
    {
      "cell_type": "code",
      "metadata": {
        "colab": {
          "base_uri": "https://localhost:8080/",
          "height": 194
        },
        "id": "ZTuPqnfiEY97",
        "outputId": "0ab12af4-34a7-401d-af22-c11cdd9ffc76"
      },
      "source": [
        "import matplotlib.pyplot as plot\n",
        "\n",
        "prednew = (pred[0]*t.std())+t.mean()\n",
        "ttestnew = (ttest*t.std())+t.mean()\n",
        "# atest = (atest*a.std())+a.mean()\n",
        "\n",
        "pred[1] = (pred[1]>0.5).astype(np.float)\n",
        "predicted = prednew * pred[1]\n",
        "plot.subplot(2,1,2)\n",
        "\n",
        "\n",
        "plot.plot(ttestnew.flatten())\n",
        "plot.plot(predicted.flatten())\n",
        "#plot.plot(atest.flatten())\n",
        "plot.title('Toaster')\n",
        "plot.ylabel('Active Power (W)')\n",
        "plot.xlabel('Sample number')\n",
        "plot.legend(['actual', 'predicted'], loc='upper right')"
      ],
      "execution_count": null,
      "outputs": [
        {
          "output_type": "execute_result",
          "data": {
            "text/plain": [
              "<matplotlib.legend.Legend at 0x7f52cc83e650>"
            ]
          },
          "metadata": {},
          "execution_count": 16
        },
        {
          "output_type": "display_data",
          "data": {
            "image/png": "[encoded data removed]",
            "text/plain": [
              "<Figure size 432x288 with 1 Axes>"
            ]
          },
          "metadata": {
            "needs_background": "light"
          }
        }
      ]
    },
    {
      "cell_type": "code",
      "metadata": {
        "id": "V2Rf5y7VEY97"
      },
      "source": [
        "import os\n",
        "import tensorflow_addons as tfa\n",
        "checkpoint = '/gdrive/MyDrive/toaster.ckpt'\n",
        "cdir = os.path.dirname(checkpoint)\n",
        "latest = tf.train.latest_checkpoint(cdir)\n",
        "from tensorflow import keras\n",
        "model = keras.models.load_model('/gdrive/MyDrive/toaster.ckpt',custom_objects={\"f1_score\":tfa.metrics.F1Score})"
      ],
      "execution_count": null,
      "outputs": []
    },
    {
      "cell_type": "markdown",
      "metadata": {
        "id": "EV6tMbcmnlCC"
      },
      "source": [
        "# **Microwave model:**"
      ]
    },
    {
      "cell_type": "code",
      "metadata": {
        "colab": {
          "base_uri": "https://localhost:8080/"
        },
        "id": "A6sPU_XKnutl",
        "outputId": "63db4d60-8363-4aa3-d738-ae64365b3c7e"
      },
      "source": [
        "from google.colab import drive\n",
        "drive.mount('/gdrive')"
      ],
      "execution_count": null,
      "outputs": [
        {
          "output_type": "stream",
          "name": "stdout",
          "text": [
            "Mounted at /gdrive\n"
          ]
        }
      ]
    },
    {
      "cell_type": "code",
      "metadata": {
        "id": "ZZvkK3-Tnutn"
      },
      "source": [
        "import tensorflow as tf\n",
        "tf.config.run_functions_eagerly(True)\n",
        "!pip install -U tensorflow-addons"
      ],
      "execution_count": null,
      "outputs": []
    },
    {
      "cell_type": "code",
      "metadata": {
        "id": "KRZHGErGnutn"
      },
      "source": [
        "#loading the values\n",
        "import numpy as np\n",
        "fil = np.load('/gdrive/MyDrive/toastmicro.npz',allow_pickle=True)\n",
        "\n",
        "timetr , atr , mbtr ,kbtr ,tbtr , mtr ,ktr ,ttr = fil['arr_0'],fil['arr_1'],fil['arr_2'],fil['arr_3'],fil['arr_4'],fil['arr_5'],fil['arr_6'],fil['arr_7']"
      ],
      "execution_count": null,
      "outputs": []
    },
    {
      "cell_type": "code",
      "metadata": {
        "id": "12Emk4lKnutn"
      },
      "source": [
        "import numpy as np\n",
        "fil = np.load('/gdrive/MyDrive/toastmicrotest.npz',allow_pickle=True)\n",
        "\n",
        "timetest , atest , mbtest ,kbtest ,tbtest , mtest ,ktest ,ttest = fil['arr_0'],fil['arr_1'],fil['arr_2'],fil['arr_3'],fil['arr_4'],fil['arr_5'],fil['arr_6'],fil['arr_7']"
      ],
      "execution_count": null,
      "outputs": []
    },
    {
      "cell_type": "code",
      "metadata": {
        "id": "gAe3Wt8onuto"
      },
      "source": [
        "mtr = np.reshape(mtr,[-1,128,1])\n",
        "mbtr = np.reshape(mbtr,[-1,128,1])"
      ],
      "execution_count": null,
      "outputs": []
    },
    {
      "cell_type": "code",
      "metadata": {
        "id": "pXa0COMAnuto"
      },
      "source": [
        "mtest = np.reshape(mtest,[-1,128,1])\n",
        "mbtest = np.reshape(mbtest,[-1,128,1])"
      ],
      "execution_count": null,
      "outputs": []
    },
    {
      "cell_type": "code",
      "metadata": {
        "id": "9C5hYBRlnuto"
      },
      "source": [
        "def prepare(a,b):\n",
        "  temp = []\n",
        "  t = np.shape(a)[0]\n",
        "  for i in range(t):\n",
        "    temp.append(list(zip(a[i],b[i])))\n",
        "  return np.array(temp)\n"
      ],
      "execution_count": null,
      "outputs": []
    },
    {
      "cell_type": "code",
      "metadata": {
        "id": "lXDrP72mnuto"
      },
      "source": [
        "traindata = prepare(timetr,atr)"
      ],
      "execution_count": null,
      "outputs": []
    },
    {
      "cell_type": "code",
      "metadata": {
        "id": "fxn1XaNTnutp"
      },
      "source": [
        "testdata = prepare(timetest,atest)"
      ],
      "execution_count": null,
      "outputs": []
    },
    {
      "cell_type": "code",
      "metadata": {
        "id": "1e8SaYV9nutp"
      },
      "source": [
        "\n",
        "train_dataset = tf.data.Dataset.from_tensor_slices(\n",
        "    (\n",
        "        {\"input_1\": traindata},\n",
        "        {\"ed\": mtr, \"sd\": mbtr},\n",
        "    )\n",
        ")\n",
        "train_dataset = train_dataset.batch(100)"
      ],
      "execution_count": null,
      "outputs": []
    },
    {
      "cell_type": "code",
      "metadata": {
        "id": "Vv3d7ZLdnutp"
      },
      "source": [
        "test_dataset = tf.data.Dataset.from_tensor_slices(\n",
        "    (\n",
        "        {\"input_1\": testdata},\n",
        "        {\"ed\": mtest, \"sd\": mbtest},\n",
        "    )\n",
        ")\n",
        "test_dataset = test_dataset.batch(100)"
      ],
      "execution_count": null,
      "outputs": []
    },
    {
      "cell_type": "code",
      "metadata": {
        "id": "9XP3XRhQnutp"
      },
      "source": [
        "import tensorflow as tf\n",
        "import tensorflow_addons as tfa\n",
        "from tensorflow.keras import Input, Model\n",
        "\n",
        "\n",
        "input1 = tf.keras.layers.Input(shape=(128,2),name=\"input_1\")\n",
        "#input2 = tf.keras.layers.Input(shape=(None,512),name=\"input_2\")\n",
        "#inputs= tf.keras.layers.Concatenate(axis=0)([input1, input2])\n",
        "#inputs = tf.reshape(input1,[-1,512,1])\n",
        "x = tf.keras.layers.Conv1D(filters=16, kernel_size=3, strides=1, padding=\"causal\", activation=\"relu\",input_shape=(128,2))(input1)\n",
        "x = tf.keras.layers.Bidirectional(tf.keras.layers.GRU(128, activation=\"tanh\", return_sequences=True))(x)\n",
        "x = tf.keras.layers.Bidirectional(tf.keras.layers.GRU(256, activation=\"tanh\", return_sequences=True))(x)\n",
        "x = tf.keras.layers.Dense(128, activation=\"tanh\")(x)\n",
        "o1 = tf.keras.layers.Dense(1, activation=\"linear\",name=\"ed\")(x)\n",
        "o2 = tf.keras.layers.Dense(1, activation=\"sigmoid\",name=\"sd\")(x)\n",
        "\n",
        "model = Model(inputs=[input1], outputs=[o1, o2])\n",
        "\n",
        "model.compile(loss={'ed': 'mean_squared_error', \n",
        "                    'sd': 'binary_crossentropy'},\n",
        "              loss_weights={'ed':0.4,\n",
        "                            'sd':0.6},\n",
        "              optimizer='adam',\n",
        "              metrics={'ed': tf.keras.metrics.MeanAbsoluteError(name=\"mean_absolute_error\", dtype=None),\n",
        "                       'sd': tfa.metrics.F1Score(name=\"f1_score\",num_classes=2, threshold=0.5, average = \"micro\")})"
      ],
      "execution_count": null,
      "outputs": []
    },
    {
      "cell_type": "code",
      "metadata": {
        "colab": {
          "base_uri": "https://localhost:8080/"
        },
        "id": "fKGe8thknutq",
        "outputId": "3d073a69-4e65-42eb-a254-08c74b29be3f"
      },
      "source": [
        "#Training for washing machine\n",
        "import os\n",
        "checkpoint = '/gdrive/MyDrive/microwave.ckpt'\n",
        "cdir = os.path.dirname(checkpoint)\n",
        "\n",
        "cp_callback = tf.keras.callbacks.ModelCheckpoint(\n",
        "    filepath=checkpoint, \n",
        "    verbose=1, \n",
        "    monitor='loss',\n",
        "    save_weights_only=False,\n",
        "    save_best_only=True)\n",
        "\n",
        "\n",
        "\n",
        "history = model.fit(train_dataset,epochs=5,callbacks=[cp_callback],verbose=1)"
      ],
      "execution_count": null,
      "outputs": [
        {
          "metadata": {
            "tags": null
          },
          "name": "stdout",
          "output_type": "stream",
          "text": [
            "Epoch 1/5\n",
            "314/314 [==============================] - 1441s 5s/step - loss: 0.3631 - ed_loss: 0.8380 - sd_loss: 0.0465 - ed_mean_absolute_error: 0.1435 - sd_f1_score: 0.0055\n",
            "\n",
            "Epoch 00001: loss improved from inf to 0.36312, saving model to /gdrive/MyDrive/microwave.ckpt\n"
          ]
        },
        {
          "metadata": {
            "tags": null
          },
          "name": "stderr",
          "output_type": "stream",
          "text": [
            "WARNING:absl:Found untraced functions such as gru_cell_19_layer_call_fn, gru_cell_19_layer_call_and_return_conditional_losses, gru_cell_20_layer_call_fn, gru_cell_20_layer_call_and_return_conditional_losses, gru_cell_22_layer_call_fn while saving (showing 5 of 20). These functions will not be directly callable after loading.\n"
          ]
        },
        {
          "metadata": {
            "tags": null
          },
          "name": "stdout",
          "output_type": "stream",
          "text": [
            "INFO:tensorflow:Assets written to: /gdrive/MyDrive/microwave.ckpt/assets\n"
          ]
        },
        {
          "metadata": {
            "tags": null
          },
          "name": "stderr",
          "output_type": "stream",
          "text": [
            "INFO:tensorflow:Assets written to: /gdrive/MyDrive/microwave.ckpt/assets\n"
          ]
        },
        {
          "metadata": {
            "tags": null
          },
          "name": "stdout",
          "output_type": "stream",
          "text": [
            "Epoch 2/5\n",
            "314/314 [==============================] - 1445s 5s/step - loss: 0.3248 - ed_loss: 0.7536 - sd_loss: 0.0389 - ed_mean_absolute_error: 0.1318 - sd_f1_score: 0.1091\n",
            "\n",
            "Epoch 00002: loss improved from 0.36312 to 0.32478, saving model to /gdrive/MyDrive/microwave.ckpt\n"
          ]
        },
        {
          "metadata": {
            "tags": null
          },
          "name": "stderr",
          "output_type": "stream",
          "text": [
            "WARNING:absl:Found untraced functions such as gru_cell_19_layer_call_fn, gru_cell_19_layer_call_and_return_conditional_losses, gru_cell_20_layer_call_fn, gru_cell_20_layer_call_and_return_conditional_losses, gru_cell_22_layer_call_fn while saving (showing 5 of 20). These functions will not be directly callable after loading.\n"
          ]
        },
        {
          "metadata": {
            "tags": null
          },
          "name": "stdout",
          "output_type": "stream",
          "text": [
            "INFO:tensorflow:Assets written to: /gdrive/MyDrive/microwave.ckpt/assets\n"
          ]
        },
        {
          "metadata": {
            "tags": null
          },
          "name": "stderr",
          "output_type": "stream",
          "text": [
            "INFO:tensorflow:Assets written to: /gdrive/MyDrive/microwave.ckpt/assets\n"
          ]
        },
        {
          "metadata": {
            "tags": null
          },
          "name": "stdout",
          "output_type": "stream",
          "text": [
            "Epoch 3/5\n",
            "314/314 [==============================] - 1443s 5s/step - loss: 0.2899 - ed_loss: 0.6695 - sd_loss: 0.0369 - ed_mean_absolute_error: 0.1043 - sd_f1_score: 0.2220\n",
            "\n",
            "Epoch 00003: loss improved from 0.32478 to 0.28993, saving model to /gdrive/MyDrive/microwave.ckpt\n"
          ]
        },
        {
          "output_type": "stream",
          "name": "stderr",
          "text": [
            "WARNING:absl:Found untraced functions such as gru_cell_19_layer_call_fn, gru_cell_19_layer_call_and_return_conditional_losses, gru_cell_20_layer_call_fn, gru_cell_20_layer_call_and_return_conditional_losses, gru_cell_22_layer_call_fn while saving (showing 5 of 20). These functions will not be directly callable after loading.\n"
          ]
        },
        {
          "output_type": "stream",
          "name": "stdout",
          "text": [
            "INFO:tensorflow:Assets written to: /gdrive/MyDrive/microwave.ckpt/assets\n"
          ]
        },
        {
          "output_type": "stream",
          "name": "stderr",
          "text": [
            "INFO:tensorflow:Assets written to: /gdrive/MyDrive/microwave.ckpt/assets\n"
          ]
        },
        {
          "output_type": "stream",
          "name": "stdout",
          "text": [
            "Epoch 4/5\n",
            "314/314 [==============================] - 1426s 5s/step - loss: 0.2618 - ed_loss: 0.6030 - sd_loss: 0.0344 - ed_mean_absolute_error: 0.0968 - sd_f1_score: 0.2948\n",
            "\n",
            "Epoch 00004: loss improved from 0.28993 to 0.26183, saving model to /gdrive/MyDrive/microwave.ckpt\n"
          ]
        },
        {
          "output_type": "stream",
          "name": "stderr",
          "text": [
            "WARNING:absl:Found untraced functions such as gru_cell_19_layer_call_fn, gru_cell_19_layer_call_and_return_conditional_losses, gru_cell_20_layer_call_fn, gru_cell_20_layer_call_and_return_conditional_losses, gru_cell_22_layer_call_fn while saving (showing 5 of 20). These functions will not be directly callable after loading.\n"
          ]
        },
        {
          "output_type": "stream",
          "name": "stdout",
          "text": [
            "INFO:tensorflow:Assets written to: /gdrive/MyDrive/microwave.ckpt/assets\n"
          ]
        },
        {
          "output_type": "stream",
          "name": "stderr",
          "text": [
            "INFO:tensorflow:Assets written to: /gdrive/MyDrive/microwave.ckpt/assets\n"
          ]
        },
        {
          "output_type": "stream",
          "name": "stdout",
          "text": [
            "Epoch 5/5\n",
            "314/314 [==============================] - 1430s 5s/step - loss: 0.2479 - ed_loss: 0.5709 - sd_loss: 0.0326 - ed_mean_absolute_error: 0.0904 - sd_f1_score: 0.3468\n",
            "\n",
            "Epoch 00005: loss improved from 0.26183 to 0.24793, saving model to /gdrive/MyDrive/microwave.ckpt\n"
          ]
        },
        {
          "output_type": "stream",
          "name": "stderr",
          "text": [
            "WARNING:absl:Found untraced functions such as gru_cell_19_layer_call_fn, gru_cell_19_layer_call_and_return_conditional_losses, gru_cell_20_layer_call_fn, gru_cell_20_layer_call_and_return_conditional_losses, gru_cell_22_layer_call_fn while saving (showing 5 of 20). These functions will not be directly callable after loading.\n"
          ]
        },
        {
          "output_type": "stream",
          "name": "stdout",
          "text": [
            "INFO:tensorflow:Assets written to: /gdrive/MyDrive/microwave.ckpt/assets\n"
          ]
        },
        {
          "output_type": "stream",
          "name": "stderr",
          "text": [
            "INFO:tensorflow:Assets written to: /gdrive/MyDrive/microwave.ckpt/assets\n"
          ]
        }
      ]
    },
    {
      "cell_type": "code",
      "metadata": {
        "colab": {
          "base_uri": "https://localhost:8080/"
        },
        "id": "B1K8rsZpnutq",
        "outputId": "16a658fb-f624-4f77-d7b7-8620ec5fd84d"
      },
      "source": [
        "model.summary()"
      ],
      "execution_count": null,
      "outputs": [
        {
          "output_type": "stream",
          "name": "stdout",
          "text": [
            "Model: \"model_3\"\n",
            "__________________________________________________________________________________________________\n",
            "Layer (type)                    Output Shape         Param #     Connected to                     \n",
            "==================================================================================================\n",
            "input_1 (InputLayer)            [(None, 128, 2)]     0                                            \n",
            "__________________________________________________________________________________________________\n",
            "conv1d_3 (Conv1D)               (None, 128, 16)      112         input_1[0][0]                    \n",
            "__________________________________________________________________________________________________\n",
            "bidirectional_6 (Bidirectional) (None, 128, 256)     112128      conv1d_3[0][0]                   \n",
            "__________________________________________________________________________________________________\n",
            "bidirectional_7 (Bidirectional) (None, 128, 512)     789504      bidirectional_6[0][0]            \n",
            "__________________________________________________________________________________________________\n",
            "dense_3 (Dense)                 (None, 128, 128)     65664       bidirectional_7[0][0]            \n",
            "__________________________________________________________________________________________________\n",
            "ed (Dense)                      (None, 128, 1)       129         dense_3[0][0]                    \n",
            "__________________________________________________________________________________________________\n",
            "sd (Dense)                      (None, 128, 1)       129         dense_3[0][0]                    \n",
            "==================================================================================================\n",
            "Total params: 967,666\n",
            "Trainable params: 967,666\n",
            "Non-trainable params: 0\n",
            "__________________________________________________________________________________________________\n"
          ]
        }
      ]
    },
    {
      "cell_type": "code",
      "metadata": {
        "colab": {
          "base_uri": "https://localhost:8080/",
          "height": 159
        },
        "id": "Ixlb4FxMnutq",
        "outputId": "09cc5392-25d9-41cd-b53d-15437eff3b02"
      },
      "source": [
        "#plotting loss metrics \n",
        "import matplotlib.pyplot as plot\n",
        "plot.subplot(3,1,2)\n",
        "plot.plot(history.history['loss'])\n",
        "plot.plot(history.history['ed_loss'])\n",
        "plot.plot(history.history['sd_loss'])\n",
        "plot.title('model loss')\n",
        "plot.ylabel('loss')\n",
        "plot.xlabel('epoch')\n",
        "plot.legend(['overall', 'ed','sd'], loc='upper right')"
      ],
      "execution_count": null,
      "outputs": [
        {
          "output_type": "execute_result",
          "data": {
            "text/plain": [
              "<matplotlib.legend.Legend at 0x7f64173b6790>"
            ]
          },
          "metadata": {},
          "execution_count": 76
        },
        {
          "output_type": "display_data",
          "data": {
            "image/png": "[encoded data removed]",
            "text/plain": [
              "<Figure size 432x288 with 1 Axes>"
            ]
          },
          "metadata": {
            "needs_background": "light"
          }
        }
      ]
    },
    {
      "cell_type": "code",
      "metadata": {
        "colab": {
          "base_uri": "https://localhost:8080/",
          "height": 194
        },
        "id": "GCaiy1OLnutr",
        "outputId": "a2a36304-1dbf-463e-93b6-68ca7e31b385"
      },
      "source": [
        "#plotting metrics\n",
        "plot.subplot(2,1,2)\n",
        "plot.plot(history.history['ed_mean_absolute_error'])\n",
        "plot.plot(history.history['sd_f1_score'])\n",
        "plot.title('model loss')\n",
        "plot.ylabel('metric score')\n",
        "plot.xlabel('epoch')\n",
        "plot.legend(['MAE', 'F1'], loc='upper right')"
      ],
      "execution_count": null,
      "outputs": [
        {
          "output_type": "execute_result",
          "data": {
            "text/plain": [
              "<matplotlib.legend.Legend at 0x7f6456f67190>"
            ]
          },
          "metadata": {},
          "execution_count": 77
        },
        {
          "output_type": "display_data",
          "data": {
            "image/png": "[encoded data removed]",
            "text/plain": [
              "<Figure size 432x288 with 1 Axes>"
            ]
          },
          "metadata": {
            "needs_background": "light"
          }
        }
      ]
    },
    {
      "cell_type": "code",
      "metadata": {
        "colab": {
          "base_uri": "https://localhost:8080/"
        },
        "id": "Kbrr_GtSnutr",
        "outputId": "b80c3cb7-7c8f-48e0-8207-1a1f51431a7b"
      },
      "source": [
        "result = model.evaluate(test_dataset)"
      ],
      "execution_count": null,
      "outputs": [
        {
          "output_type": "stream",
          "name": "stdout",
          "text": [
            "135/135 [==============================] - 198s 1s/step - loss: 0.2717 - ed_loss: 0.5928 - sd_loss: 0.0576 - ed_mean_absolute_error: 0.0928 - sd_f1_score: 0.2157\n"
          ]
        }
      ]
    },
    {
      "cell_type": "code",
      "metadata": {
        "colab": {
          "base_uri": "https://localhost:8080/"
        },
        "id": "5iQoLbdHnutr",
        "outputId": "6a9d8557-f4c3-4ed0-f804-7d04ad80e351"
      },
      "source": [
        "dict(zip(model.metrics_names, result))\n"
      ],
      "execution_count": null,
      "outputs": [
        {
          "output_type": "stream",
          "name": "stdout",
          "text": [
            "   Microwave Model Performance\n",
            "{'ed_loss': 0.5927904844284058,\n",
            "'ed_mean_absolute_error': 0.09281656891107559,\n",
            "'loss': 0.2716723382472992,\n",
            "'sd_f1_score': 0.71565493941307068,\n",
            "'sd_loss': 0.05759339779615402}\n"
          ]
        }
      ]
    },
    {
      "cell_type": "code",
      "metadata": {
        "colab": {
          "base_uri": "https://localhost:8080/"
        },
        "id": "IPctE_Lanuts",
        "outputId": "c08a16c9-679c-40a5-bcbf-bb801b1d6029"
      },
      "source": [
        "pred = model.predict(testdata,verbose=1)"
      ],
      "execution_count": null,
      "outputs": [
        {
          "output_type": "stream",
          "name": "stderr",
          "text": [
            "/usr/local/lib/python3.7/dist-packages/tensorflow/python/data/ops/dataset_ops.py:4212: UserWarning: Even though the `tf.config.experimental_run_functions_eagerly` option is set, this option does not apply to tf.data functions. To force eager execution of tf.data functions, please use `tf.data.experimental.enable_debug_mode()`.\n",
            "  \"Even though the `tf.config.experimental_run_functions_eagerly` \"\n"
          ]
        },
        {
          "output_type": "stream",
          "name": "stdout",
          "text": [
            "420/420 [==============================] - 366s 871ms/step\n"
          ]
        }
      ]
    },
    {
      "cell_type": "code",
      "metadata": {
        "colab": {
          "base_uri": "https://localhost:8080/"
        },
        "id": "z2FAAOB1hxk_",
        "outputId": "9263976a-8365-47c7-e1b5-964011bbf1a8"
      },
      "source": [
        "pred[1].shape"
      ],
      "execution_count": null,
      "outputs": [
        {
          "output_type": "execute_result",
          "data": {
            "text/plain": [
              "(13437, 128, 1)"
            ]
          },
          "metadata": {},
          "execution_count": 25
        }
      ]
    },
    {
      "cell_type": "code",
      "metadata": {
        "colab": {
          "base_uri": "https://localhost:8080/",
          "height": 194
        },
        "id": "A9BZrE8Enuts",
        "outputId": "4550b699-8db6-4de4-b2dd-3b32b25998f9"
      },
      "source": [
        "import matplotlib.pyplot as plot\n",
        "\n",
        "prednew = (pred[0]*m.std())+m.mean()\n",
        "mtestnew = (mtest*m.std())+m.mean()\n",
        "# atest = (atest*a.std())+a.mean()\n",
        "\n",
        "pred[1] = (pred[1]>0.5).astype(np.float)\n",
        "predicted = prednew * pred[1]\n",
        "plot.subplot(2,1,2)\n",
        "plot.plot(mtestnew.flatten())\n",
        "plot.plot(predicted.flatten())\n",
        "#plot.plot(atest.flatten())\n",
        "plot.title('Microwave')\n",
        "plot.ylabel('Active Power (W)')\n",
        "plot.xlabel('Sample number')\n",
        "plot.legend(['actual', 'predicted'], loc='upper right')"
      ],
      "execution_count": null,
      "outputs": [
        {
          "output_type": "execute_result",
          "data": {
            "text/plain": [
              "<matplotlib.legend.Legend at 0x7f52c5fd2490>"
            ]
          },
          "metadata": {},
          "execution_count": 34
        },
        {
          "output_type": "display_data",
          "data": {
            "image/png": "[encoded data removed]",
            "text/plain": [
              "<Figure size 432x288 with 1 Axes>"
            ]
          },
          "metadata": {
            "needs_background": "light"
          }
        }
      ]
    },
    {
      "cell_type": "code",
      "metadata": {
        "id": "s4lYC9Venuts"
      },
      "source": [
        "import os\n",
        "import tensorflow_addons as tfa\n",
        "checkpoint = '/gdrive/MyDrive/microwave.ckpt'\n",
        "cdir = os.path.dirname(checkpoint)\n",
        "latest = tf.train.latest_checkpoint(cdir)\n",
        "from tensorflow import keras\n",
        "model = keras.models.load_model('/gdrive/MyDrive/microwave.ckpt',custom_objects={\"f1_score\":tfa.metrics.F1Score})"
      ],
      "execution_count": null,
      "outputs": []
    },
    {
      "cell_type": "markdown",
      "metadata": {
        "id": "Z4bfTNUDM_Jx"
      },
      "source": [
        "# **Kettle Model:**"
      ]
    },
    {
      "cell_type": "code",
      "metadata": {
        "colab": {
          "base_uri": "https://localhost:8080/"
        },
        "id": "6UK6azffNEqn",
        "outputId": "229e1dac-5b96-4fb4-8654-a24912d1c660"
      },
      "source": [
        "from google.colab import drive\n",
        "drive.mount('/gdrive')"
      ],
      "execution_count": null,
      "outputs": [
        {
          "output_type": "stream",
          "name": "stdout",
          "text": [
            "Mounted at /gdrive\n"
          ]
        }
      ]
    },
    {
      "cell_type": "code",
      "metadata": {
        "colab": {
          "base_uri": "https://localhost:8080/"
        },
        "id": "5zqY2ve7NEqo",
        "outputId": "72520ee3-f6db-4820-a7f1-78395bc6ccac"
      },
      "source": [
        "import tensorflow as tf\n",
        "tf.config.run_functions_eagerly(True)\n",
        "!pip install -U tensorflow-addons"
      ],
      "execution_count": null,
      "outputs": [
        {
          "output_type": "stream",
          "name": "stdout",
          "text": [
            "Collecting tensorflow-addons\n",
            "  Downloading tensorflow_addons-0.14.0-cp37-cp37m-manylinux_2_12_x86_64.manylinux2010_x86_64.whl (1.1 MB)\n",
            "\u001b[?25l\r\u001b[K     |▎                               | 10 kB 24.9 MB/s eta 0:00:01\r\u001b[K     |▋                               | 20 kB 27.1 MB/s eta 0:00:01\r\u001b[K     |▉                               | 30 kB 17.8 MB/s eta 0:00:01\r\u001b[K     |█▏                              | 40 kB 9.2 MB/s eta 0:00:01\r\u001b[K     |█▌                              | 51 kB 5.4 MB/s eta 0:00:01\r\u001b[K     |█▊                              | 61 kB 5.5 MB/s eta 0:00:01\r\u001b[K     |██                              | 71 kB 5.3 MB/s eta 0:00:01\r\u001b[K     |██▍                             | 81 kB 5.9 MB/s eta 0:00:01\r\u001b[K     |██▋                             | 92 kB 5.8 MB/s eta 0:00:01\r\u001b[K     |███                             | 102 kB 5.2 MB/s eta 0:00:01\r\u001b[K     |███▎                            | 112 kB 5.2 MB/s eta 0:00:01\r\u001b[K     |███▌                            | 122 kB 5.2 MB/s eta 0:00:01\r\u001b[K     |███▉                            | 133 kB 5.2 MB/s eta 0:00:01\r\u001b[K     |████▏                           | 143 kB 5.2 MB/s eta 0:00:01\r\u001b[K     |████▍                           | 153 kB 5.2 MB/s eta 0:00:01\r\u001b[K     |████▊                           | 163 kB 5.2 MB/s eta 0:00:01\r\u001b[K     |█████                           | 174 kB 5.2 MB/s eta 0:00:01\r\u001b[K     |█████▎                          | 184 kB 5.2 MB/s eta 0:00:01\r\u001b[K     |█████▋                          | 194 kB 5.2 MB/s eta 0:00:01\r\u001b[K     |██████                          | 204 kB 5.2 MB/s eta 0:00:01\r\u001b[K     |██████▏                         | 215 kB 5.2 MB/s eta 0:00:01\r\u001b[K     |██████▌                         | 225 kB 5.2 MB/s eta 0:00:01\r\u001b[K     |██████▉                         | 235 kB 5.2 MB/s eta 0:00:01\r\u001b[K     |███████                         | 245 kB 5.2 MB/s eta 0:00:01\r\u001b[K     |███████▍                        | 256 kB 5.2 MB/s eta 0:00:01\r\u001b[K     |███████▊                        | 266 kB 5.2 MB/s eta 0:00:01\r\u001b[K     |████████                        | 276 kB 5.2 MB/s eta 0:00:01\r\u001b[K     |████████▎                       | 286 kB 5.2 MB/s eta 0:00:01\r\u001b[K     |████████▋                       | 296 kB 5.2 MB/s eta 0:00:01\r\u001b[K     |████████▉                       | 307 kB 5.2 MB/s eta 0:00:01\r\u001b[K     |█████████▏                      | 317 kB 5.2 MB/s eta 0:00:01\r\u001b[K     |█████████▌                      | 327 kB 5.2 MB/s eta 0:00:01\r\u001b[K     |█████████▊                      | 337 kB 5.2 MB/s eta 0:00:01\r\u001b[K     |██████████                      | 348 kB 5.2 MB/s eta 0:00:01\r\u001b[K     |██████████▍                     | 358 kB 5.2 MB/s eta 0:00:01\r\u001b[K     |██████████▋                     | 368 kB 5.2 MB/s eta 0:00:01\r\u001b[K     |███████████                     | 378 kB 5.2 MB/s eta 0:00:01\r\u001b[K     |███████████▎                    | 389 kB 5.2 MB/s eta 0:00:01\r\u001b[K     |███████████▌                    | 399 kB 5.2 MB/s eta 0:00:01\r\u001b[K     |███████████▉                    | 409 kB 5.2 MB/s eta 0:00:01\r\u001b[K     |████████████▏                   | 419 kB 5.2 MB/s eta 0:00:01\r\u001b[K     |████████████▍                   | 430 kB 5.2 MB/s eta 0:00:01\r\u001b[K     |████████████▊                   | 440 kB 5.2 MB/s eta 0:00:01\r\u001b[K     |█████████████                   | 450 kB 5.2 MB/s eta 0:00:01\r\u001b[K     |█████████████▎                  | 460 kB 5.2 MB/s eta 0:00:01\r\u001b[K     |█████████████▋                  | 471 kB 5.2 MB/s eta 0:00:01\r\u001b[K     |██████████████                  | 481 kB 5.2 MB/s eta 0:00:01\r\u001b[K     |██████████████▏                 | 491 kB 5.2 MB/s eta 0:00:01\r\u001b[K     |██████████████▌                 | 501 kB 5.2 MB/s eta 0:00:01\r\u001b[K     |██████████████▉                 | 512 kB 5.2 MB/s eta 0:00:01\r\u001b[K     |███████████████                 | 522 kB 5.2 MB/s eta 0:00:01\r\u001b[K     |███████████████▍                | 532 kB 5.2 MB/s eta 0:00:01\r\u001b[K     |███████████████▊                | 542 kB 5.2 MB/s eta 0:00:01\r\u001b[K     |████████████████                | 552 kB 5.2 MB/s eta 0:00:01\r\u001b[K     |████████████████▎               | 563 kB 5.2 MB/s eta 0:00:01\r\u001b[K     |████████████████▋               | 573 kB 5.2 MB/s eta 0:00:01\r\u001b[K     |████████████████▉               | 583 kB 5.2 MB/s eta 0:00:01\r\u001b[K     |█████████████████▏              | 593 kB 5.2 MB/s eta 0:00:01\r\u001b[K     |█████████████████▌              | 604 kB 5.2 MB/s eta 0:00:01\r\u001b[K     |█████████████████▊              | 614 kB 5.2 MB/s eta 0:00:01\r\u001b[K     |██████████████████              | 624 kB 5.2 MB/s eta 0:00:01\r\u001b[K     |██████████████████▍             | 634 kB 5.2 MB/s eta 0:00:01\r\u001b[K     |██████████████████▋             | 645 kB 5.2 MB/s eta 0:00:01\r\u001b[K     |███████████████████             | 655 kB 5.2 MB/s eta 0:00:01\r\u001b[K     |███████████████████▎            | 665 kB 5.2 MB/s eta 0:00:01\r\u001b[K     |███████████████████▌            | 675 kB 5.2 MB/s eta 0:00:01\r\u001b[K     |███████████████████▉            | 686 kB 5.2 MB/s eta 0:00:01\r\u001b[K     |████████████████████▏           | 696 kB 5.2 MB/s eta 0:00:01\r\u001b[K     |████████████████████▍           | 706 kB 5.2 MB/s eta 0:00:01\r\u001b[K     |████████████████████▊           | 716 kB 5.2 MB/s eta 0:00:01\r\u001b[K     |█████████████████████           | 727 kB 5.2 MB/s eta 0:00:01\r\u001b[K     |█████████████████████▎          | 737 kB 5.2 MB/s eta 0:00:01\r\u001b[K     |█████████████████████▋          | 747 kB 5.2 MB/s eta 0:00:01\r\u001b[K     |██████████████████████          | 757 kB 5.2 MB/s eta 0:00:01\r\u001b[K     |██████████████████████▏         | 768 kB 5.2 MB/s eta 0:00:01\r\u001b[K     |██████████████████████▌         | 778 kB 5.2 MB/s eta 0:00:01\r\u001b[K     |██████████████████████▉         | 788 kB 5.2 MB/s eta 0:00:01\r\u001b[K     |███████████████████████         | 798 kB 5.2 MB/s eta 0:00:01\r\u001b[K     |███████████████████████▍        | 808 kB 5.2 MB/s eta 0:00:01\r\u001b[K     |███████████████████████▊        | 819 kB 5.2 MB/s eta 0:00:01\r\u001b[K     |████████████████████████        | 829 kB 5.2 MB/s eta 0:00:01\r\u001b[K     |████████████████████████▎       | 839 kB 5.2 MB/s eta 0:00:01\r\u001b[K     |████████████████████████▋       | 849 kB 5.2 MB/s eta 0:00:01\r\u001b[K     |████████████████████████▉       | 860 kB 5.2 MB/s eta 0:00:01\r\u001b[K     |█████████████████████████▏      | 870 kB 5.2 MB/s eta 0:00:01\r\u001b[K     |█████████████████████████▍      | 880 kB 5.2 MB/s eta 0:00:01\r\u001b[K     |█████████████████████████▊      | 890 kB 5.2 MB/s eta 0:00:01\r\u001b[K     |██████████████████████████      | 901 kB 5.2 MB/s eta 0:00:01\r\u001b[K     |██████████████████████████▎     | 911 kB 5.2 MB/s eta 0:00:01\r\u001b[K     |██████████████████████████▋     | 921 kB 5.2 MB/s eta 0:00:01\r\u001b[K     |███████████████████████████     | 931 kB 5.2 MB/s eta 0:00:01\r\u001b[K     |███████████████████████████▏    | 942 kB 5.2 MB/s eta 0:00:01\r\u001b[K     |███████████████████████████▌    | 952 kB 5.2 MB/s eta 0:00:01\r\u001b[K     |███████████████████████████▉    | 962 kB 5.2 MB/s eta 0:00:01\r\u001b[K     |████████████████████████████    | 972 kB 5.2 MB/s eta 0:00:01\r\u001b[K     |████████████████████████████▍   | 983 kB 5.2 MB/s eta 0:00:01\r\u001b[K     |████████████████████████████▊   | 993 kB 5.2 MB/s eta 0:00:01\r\u001b[K     |█████████████████████████████   | 1.0 MB 5.2 MB/s eta 0:00:01\r\u001b[K     |█████████████████████████████▎  | 1.0 MB 5.2 MB/s eta 0:00:01\r\u001b[K     |█████████████████████████████▋  | 1.0 MB 5.2 MB/s eta 0:00:01\r\u001b[K     |█████████████████████████████▉  | 1.0 MB 5.2 MB/s eta 0:00:01\r\u001b[K     |██████████████████████████████▏ | 1.0 MB 5.2 MB/s eta 0:00:01\r\u001b[K     |██████████████████████████████▌ | 1.1 MB 5.2 MB/s eta 0:00:01\r\u001b[K     |██████████████████████████████▊ | 1.1 MB 5.2 MB/s eta 0:00:01\r\u001b[K     |███████████████████████████████ | 1.1 MB 5.2 MB/s eta 0:00:01\r\u001b[K     |███████████████████████████████▍| 1.1 MB 5.2 MB/s eta 0:00:01\r\u001b[K     |███████████████████████████████▋| 1.1 MB 5.2 MB/s eta 0:00:01\r\u001b[K     |████████████████████████████████| 1.1 MB 5.2 MB/s eta 0:00:01\r\u001b[K     |████████████████████████████████| 1.1 MB 5.2 MB/s \n",
            "\u001b[?25hRequirement already satisfied: typeguard>=2.7 in /usr/local/lib/python3.7/dist-packages (from tensorflow-addons) (2.7.1)\n",
            "Installing collected packages: tensorflow-addons\n",
            "Successfully installed tensorflow-addons-0.14.0\n"
          ]
        }
      ]
    },
    {
      "cell_type": "code",
      "metadata": {
        "id": "EG_DqPISNEqp"
      },
      "source": [
        "#loading the values\n",
        "import numpy as np\n",
        "fil = np.load('/gdrive/MyDrive/toastmicro.npz',allow_pickle=True)\n",
        "\n",
        "timetr , atr , mbtr ,kbtr ,tbtr , mtr ,ktr ,ttr = fil['arr_0'],fil['arr_1'],fil['arr_2'],fil['arr_3'],fil['arr_4'],fil['arr_5'],fil['arr_6'],fil['arr_7']"
      ],
      "execution_count": null,
      "outputs": []
    },
    {
      "cell_type": "code",
      "metadata": {
        "id": "bpIzFG-jNEqp"
      },
      "source": [
        "import numpy as np\n",
        "fil = np.load('/gdrive/MyDrive/toastmicrotest.npz',allow_pickle=True)\n",
        "\n",
        "timetest , atest , mbtest ,kbtest ,tbtest , mtest ,ktest ,ttest = fil['arr_0'],fil['arr_1'],fil['arr_2'],fil['arr_3'],fil['arr_4'],fil['arr_5'],fil['arr_6'],fil['arr_7']"
      ],
      "execution_count": null,
      "outputs": []
    },
    {
      "cell_type": "code",
      "metadata": {
        "id": "z_V9GcKDNEqp"
      },
      "source": [
        "ktr = np.reshape(ktr,[-1,128,1])\n",
        "kbtr = np.reshape(kbtr,[-1,128,1])"
      ],
      "execution_count": null,
      "outputs": []
    },
    {
      "cell_type": "code",
      "metadata": {
        "id": "GY3vu9k8NEqq"
      },
      "source": [
        "ktest = np.reshape(ktest,[-1,128,1])\n",
        "kbtest = np.reshape(kbtest,[-1,128,1])"
      ],
      "execution_count": null,
      "outputs": []
    },
    {
      "cell_type": "code",
      "metadata": {
        "id": "EQMfG5roNEqq"
      },
      "source": [
        "def prepare(a,b):\n",
        "  temp = []\n",
        "  t = np.shape(a)[0]\n",
        "  for i in range(t):\n",
        "    temp.append(list(zip(a[i],b[i])))\n",
        "  return np.array(temp)\n"
      ],
      "execution_count": null,
      "outputs": []
    },
    {
      "cell_type": "code",
      "metadata": {
        "id": "o36hEB7aNEqq"
      },
      "source": [
        "traindata = prepare(timetr,atr)"
      ],
      "execution_count": null,
      "outputs": []
    },
    {
      "cell_type": "code",
      "metadata": {
        "id": "bCeylR6QNEqq"
      },
      "source": [
        "testdata = prepare(timetest,atest)"
      ],
      "execution_count": null,
      "outputs": []
    },
    {
      "cell_type": "code",
      "metadata": {
        "id": "oiOWNyInNEqq"
      },
      "source": [
        "\n",
        "train_dataset = tf.data.Dataset.from_tensor_slices(\n",
        "    (\n",
        "        {\"input_1\": traindata},\n",
        "        {\"ed\": ktr, \"sd\": kbtr},\n",
        "    )\n",
        ")\n",
        "train_dataset = train_dataset.batch(100)"
      ],
      "execution_count": null,
      "outputs": []
    },
    {
      "cell_type": "code",
      "metadata": {
        "id": "PsgLNsi_NEqr"
      },
      "source": [
        "test_dataset = tf.data.Dataset.from_tensor_slices(\n",
        "    (\n",
        "        {\"input_1\": testdata},\n",
        "        {\"ed\": ktest, \"sd\": kbtest},\n",
        "    )\n",
        ")\n",
        "test_dataset = test_dataset.batch(100)"
      ],
      "execution_count": null,
      "outputs": []
    },
    {
      "cell_type": "code",
      "metadata": {
        "id": "4XT0j0w0NEqr"
      },
      "source": [
        "import tensorflow as tf\n",
        "import tensorflow_addons as tfa\n",
        "from tensorflow.keras import Input, Model\n",
        "\n",
        "\n",
        "input1 = tf.keras.layers.Input(shape=(128,2),name=\"input_1\")\n",
        "#input2 = tf.keras.layers.Input(shape=(None,512),name=\"input_2\")\n",
        "#inputs= tf.keras.layers.Concatenate(axis=0)([input1, input2])\n",
        "#inputs = tf.reshape(input1,[-1,512,1])\n",
        "x = tf.keras.layers.Conv1D(filters=16, kernel_size=3, strides=1, padding=\"causal\", activation=\"relu\",input_shape=(128,2))(input1)\n",
        "x = tf.keras.layers.Bidirectional(tf.keras.layers.GRU(128, activation=\"tanh\", return_sequences=True))(x)\n",
        "x = tf.keras.layers.Bidirectional(tf.keras.layers.GRU(256, activation=\"tanh\", return_sequences=True))(x)\n",
        "x = tf.keras.layers.Dense(128, activation=\"tanh\")(x)\n",
        "o1 = tf.keras.layers.Dense(1, activation=\"linear\",name=\"ed\")(x)\n",
        "o2 = tf.keras.layers.Dense(1, activation=\"sigmoid\",name=\"sd\")(x)\n",
        "\n",
        "model = Model(inputs=[input1], outputs=[o1, o2])\n",
        "\n",
        "model.compile(loss={'ed': 'mean_squared_error', \n",
        "                    'sd': 'binary_crossentropy'},\n",
        "              loss_weights={'ed':0.4,\n",
        "                            'sd':0.6},\n",
        "              optimizer='adam',\n",
        "              metrics={'ed': tf.keras.metrics.MeanAbsoluteError(name=\"mean_absolute_error\", dtype=None),\n",
        "                       'sd': tfa.metrics.F1Score(name=\"f1_score\",num_classes=2, threshold=0.5, average = \"micro\")})"
      ],
      "execution_count": null,
      "outputs": []
    },
    {
      "cell_type": "code",
      "metadata": {
        "colab": {
          "base_uri": "https://localhost:8080/"
        },
        "id": "lVBffORdNEqr",
        "outputId": "59b07e4e-d6b8-43d7-b9ff-e6b61a82f7aa"
      },
      "source": [
        "#Training for washing machine\n",
        "import os\n",
        "checkpoint = '/gdrive/MyDrive/kettle.ckpt'\n",
        "cdir = os.path.dirname(checkpoint)\n",
        "\n",
        "cp_callback = tf.keras.callbacks.ModelCheckpoint(\n",
        "    filepath=checkpoint, \n",
        "    verbose=1, \n",
        "    monitor='loss',\n",
        "    save_weights_only=False,\n",
        "    save_best_only=True)\n",
        "\n",
        "\n",
        "\n",
        "history = model.fit(train_dataset,epochs=5,callbacks=[cp_callback],verbose=1)"
      ],
      "execution_count": null,
      "outputs": [
        {
          "metadata": {
            "tags": null
          },
          "name": "stdout",
          "output_type": "stream",
          "text": [
            "Epoch 1/5\n",
            "314/314 [==============================] - 1401s 4s/step - loss: 0.3870 - ed_loss: 0.9252 - sd_loss: 0.0282 - ed_mean_absolute_error: 0.1260 - sd_f1_score: 0.0000e+00\n",
            "\n",
            "Epoch 00001: loss improved from inf to 0.38699, saving model to /gdrive/MyDrive/kettle.ckpt\n"
          ]
        },
        {
          "metadata": {
            "tags": null
          },
          "name": "stderr",
          "output_type": "stream",
          "text": [
            "WARNING:absl:Found untraced functions such as gru_cell_1_layer_call_and_return_conditional_losses, gru_cell_1_layer_call_fn, gru_cell_2_layer_call_and_return_conditional_losses, gru_cell_2_layer_call_fn, gru_cell_4_layer_call_and_return_conditional_losses while saving (showing 5 of 20). These functions will not be directly callable after loading.\n"
          ]
        },
        {
          "metadata": {
            "tags": null
          },
          "name": "stdout",
          "output_type": "stream",
          "text": [
            "INFO:tensorflow:Assets written to: /gdrive/MyDrive/kettle.ckpt/assets\n"
          ]
        },
        {
          "metadata": {
            "tags": null
          },
          "name": "stderr",
          "output_type": "stream",
          "text": [
            "INFO:tensorflow:Assets written to: /gdrive/MyDrive/kettle.ckpt/assets\n"
          ]
        },
        {
          "output_type": "stream",
          "name": "stdout",
          "text": [
            "Epoch 2/5\n",
            "314/314 [==============================] - 1387s 4s/step - loss: 0.3519 - ed_loss: 0.8485 - sd_loss: 0.0209 - ed_mean_absolute_error: 0.1195 - sd_f1_score: 0.0678\n",
            "\n",
            "Epoch 00002: loss improved from 0.38699 to 0.35191, saving model to /gdrive/MyDrive/kettle.ckpt\n"
          ]
        },
        {
          "output_type": "stream",
          "name": "stderr",
          "text": [
            "WARNING:absl:Found untraced functions such as gru_cell_1_layer_call_and_return_conditional_losses, gru_cell_1_layer_call_fn, gru_cell_2_layer_call_and_return_conditional_losses, gru_cell_2_layer_call_fn, gru_cell_4_layer_call_and_return_conditional_losses while saving (showing 5 of 20). These functions will not be directly callable after loading.\n"
          ]
        },
        {
          "output_type": "stream",
          "name": "stdout",
          "text": [
            "INFO:tensorflow:Assets written to: /gdrive/MyDrive/kettle.ckpt/assets\n"
          ]
        },
        {
          "output_type": "stream",
          "name": "stderr",
          "text": [
            "INFO:tensorflow:Assets written to: /gdrive/MyDrive/kettle.ckpt/assets\n"
          ]
        },
        {
          "output_type": "stream",
          "name": "stdout",
          "text": [
            "Epoch 3/5\n",
            "314/314 [==============================] - 1379s 4s/step - loss: 0.3243 - ed_loss: 0.7760 - sd_loss: 0.0232 - ed_mean_absolute_error: 0.1023 - sd_f1_score: 0.1565\n",
            "\n",
            "Epoch 00003: loss improved from 0.35191 to 0.32433, saving model to /gdrive/MyDrive/kettle.ckpt\n"
          ]
        },
        {
          "output_type": "stream",
          "name": "stderr",
          "text": [
            "WARNING:absl:Found untraced functions such as gru_cell_1_layer_call_and_return_conditional_losses, gru_cell_1_layer_call_fn, gru_cell_2_layer_call_and_return_conditional_losses, gru_cell_2_layer_call_fn, gru_cell_4_layer_call_and_return_conditional_losses while saving (showing 5 of 20). These functions will not be directly callable after loading.\n"
          ]
        },
        {
          "output_type": "stream",
          "name": "stdout",
          "text": [
            "INFO:tensorflow:Assets written to: /gdrive/MyDrive/kettle.ckpt/assets\n"
          ]
        },
        {
          "output_type": "stream",
          "name": "stderr",
          "text": [
            "INFO:tensorflow:Assets written to: /gdrive/MyDrive/kettle.ckpt/assets\n"
          ]
        },
        {
          "output_type": "stream",
          "name": "stdout",
          "text": [
            "Epoch 4/5\n",
            "314/314 [==============================] - 1383s 4s/step - loss: 0.3255 - ed_loss: 0.7844 - sd_loss: 0.0195 - ed_mean_absolute_error: 0.0997 - sd_f1_score: 0.0835\n",
            "\n",
            "Epoch 00004: loss did not improve from 0.32433\n",
            "Epoch 5/5\n",
            "314/314 [==============================] - 1374s 4s/step - loss: 0.2870 - ed_loss: 0.6890 - sd_loss: 0.0190 - ed_mean_absolute_error: 0.0960 - sd_f1_score: 0.2343\n",
            "\n",
            "Epoch 00005: loss improved from 0.32433 to 0.28700, saving model to /gdrive/MyDrive/kettle.ckpt\n"
          ]
        },
        {
          "output_type": "stream",
          "name": "stderr",
          "text": [
            "WARNING:absl:Found untraced functions such as gru_cell_1_layer_call_and_return_conditional_losses, gru_cell_1_layer_call_fn, gru_cell_2_layer_call_and_return_conditional_losses, gru_cell_2_layer_call_fn, gru_cell_4_layer_call_and_return_conditional_losses while saving (showing 5 of 20). These functions will not be directly callable after loading.\n"
          ]
        },
        {
          "output_type": "stream",
          "name": "stdout",
          "text": [
            "INFO:tensorflow:Assets written to: /gdrive/MyDrive/kettle.ckpt/assets\n"
          ]
        },
        {
          "output_type": "stream",
          "name": "stderr",
          "text": [
            "INFO:tensorflow:Assets written to: /gdrive/MyDrive/kettle.ckpt/assets\n"
          ]
        }
      ]
    },
    {
      "cell_type": "code",
      "metadata": {
        "colab": {
          "base_uri": "https://localhost:8080/"
        },
        "id": "mEsT25spNEqs",
        "outputId": "16a658fb-f624-4f77-d7b7-8620ec5fd84d"
      },
      "source": [
        "model.summary()"
      ],
      "execution_count": null,
      "outputs": [
        {
          "output_type": "stream",
          "name": "stdout",
          "text": [
            "Model: \"model_3\"\n",
            "__________________________________________________________________________________________________\n",
            "Layer (type)                    Output Shape         Param #     Connected to                     \n",
            "==================================================================================================\n",
            "input_1 (InputLayer)            [(None, 128, 2)]     0                                            \n",
            "__________________________________________________________________________________________________\n",
            "conv1d_3 (Conv1D)               (None, 128, 16)      112         input_1[0][0]                    \n",
            "__________________________________________________________________________________________________\n",
            "bidirectional_6 (Bidirectional) (None, 128, 256)     112128      conv1d_3[0][0]                   \n",
            "__________________________________________________________________________________________________\n",
            "bidirectional_7 (Bidirectional) (None, 128, 512)     789504      bidirectional_6[0][0]            \n",
            "__________________________________________________________________________________________________\n",
            "dense_3 (Dense)                 (None, 128, 128)     65664       bidirectional_7[0][0]            \n",
            "__________________________________________________________________________________________________\n",
            "ed (Dense)                      (None, 128, 1)       129         dense_3[0][0]                    \n",
            "__________________________________________________________________________________________________\n",
            "sd (Dense)                      (None, 128, 1)       129         dense_3[0][0]                    \n",
            "==================================================================================================\n",
            "Total params: 967,666\n",
            "Trainable params: 967,666\n",
            "Non-trainable params: 0\n",
            "__________________________________________________________________________________________________\n"
          ]
        }
      ]
    },
    {
      "cell_type": "code",
      "metadata": {
        "colab": {
          "base_uri": "https://localhost:8080/",
          "height": 159
        },
        "id": "mBE1t3r0NEqs",
        "outputId": "d451a389-e7bb-4beb-8ee9-d0667efb6221"
      },
      "source": [
        "#plotting loss metrics \n",
        "import matplotlib.pyplot as plot\n",
        "plot.subplot(3,1,2)\n",
        "plot.plot(history.history['loss'])\n",
        "plot.plot(history.history['ed_loss'])\n",
        "plot.plot(history.history['sd_loss'])\n",
        "plot.title('model loss')\n",
        "plot.ylabel('loss')\n",
        "plot.xlabel('epoch')\n",
        "plot.legend(['overall', 'ed','sd'], loc='upper right')"
      ],
      "execution_count": null,
      "outputs": [
        {
          "output_type": "execute_result",
          "data": {
            "text/plain": [
              "<matplotlib.legend.Legend at 0x7f262830ab90>"
            ]
          },
          "metadata": {},
          "execution_count": 14
        },
        {
          "output_type": "display_data",
          "data": {
            "image/png": "[encoded data removed]",
            "text/plain": [
              "<Figure size 432x288 with 1 Axes>"
            ]
          },
          "metadata": {
            "needs_background": "light"
          }
        }
      ]
    },
    {
      "cell_type": "code",
      "metadata": {
        "colab": {
          "base_uri": "https://localhost:8080/",
          "height": 194
        },
        "id": "KOTG_jS0NEqs",
        "outputId": "ac13c137-5867-4e86-bd3a-d79bd0b910c4"
      },
      "source": [
        "#plotting metrics\n",
        "plot.subplot(2,1,2)\n",
        "plot.plot(history.history['ed_mean_absolute_error'])\n",
        "plot.plot(history.history['sd_f1_score'])\n",
        "plot.title('model loss')\n",
        "plot.ylabel('metric score')\n",
        "plot.xlabel('epoch')\n",
        "plot.legend(['MAE', 'F1'], loc='upper right')"
      ],
      "execution_count": null,
      "outputs": [
        {
          "output_type": "execute_result",
          "data": {
            "text/plain": [
              "<matplotlib.legend.Legend at 0x7f2626c481d0>"
            ]
          },
          "metadata": {},
          "execution_count": 15
        },
        {
          "output_type": "display_data",
          "data": {
            "image/png": "[encoded data removed]",
            "text/plain": [
              "<Figure size 432x288 with 1 Axes>"
            ]
          },
          "metadata": {
            "needs_background": "light"
          }
        }
      ]
    },
    {
      "cell_type": "code",
      "metadata": {
        "colab": {
          "base_uri": "https://localhost:8080/"
        },
        "id": "n6Wrmm1XNEqt",
        "outputId": "0716299e-f10e-4046-ab08-f46b960f487d"
      },
      "source": [
        "result = model.evaluate(test_dataset)"
      ],
      "execution_count": null,
      "outputs": [
        {
          "output_type": "stream",
          "name": "stdout",
          "text": [
            "135/135 [==============================] - 204s 2s/step - loss: 0.2711 - ed_loss: 0.6464 - sd_loss: 0.0208 - ed_mean_absolute_error: 0.1050 - sd_f1_score: 0.0000e+00\n"
          ]
        }
      ]
    },
    {
      "cell_type": "code",
      "metadata": {
        "colab": {
          "base_uri": "https://localhost:8080/"
        },
        "id": "zDpyadKTNEqt",
        "outputId": "0ba2a9ee-5e17-4e92-cd15-3aec9d28188b"
      },
      "source": [
        "dict(zip(model.metrics_names, result))\n"
      ],
      "execution_count": null,
      "outputs": [
        {
          "output_type": "stream",
          "name": "stdout",
          "text": [
            "   Kettle Model Performance\n",
            "{'ed_loss': 0.6464377641677856,\n",
            "'ed_mean_absolute_error': 0.10497784614562988,\n",
            "'loss': 0.2710680067539215,\n",
            "'sd_f1_score': 0.63784614564977,\n",
            "'sd_loss': 0.02082149125635624}\n"
          ]
        }
      ]
    },
    {
      "cell_type": "code",
      "metadata": {
        "colab": {
          "base_uri": "https://localhost:8080/"
        },
        "id": "I0Y_Or6YNEqt",
        "outputId": "4a4f0e63-05d8-4a48-9bf4-20dba157c87f"
      },
      "source": [
        "pred = model.predict(testdata,verbose=1)"
      ],
      "execution_count": null,
      "outputs": [
        {
          "output_type": "stream",
          "name": "stderr",
          "text": [
            "/usr/local/lib/python3.7/dist-packages/tensorflow/python/data/ops/dataset_ops.py:4212: UserWarning: Even though the `tf.config.experimental_run_functions_eagerly` option is set, this option does not apply to tf.data functions. To force eager execution of tf.data functions, please use `tf.data.experimental.enable_debug_mode()`.\n",
            "  \"Even though the `tf.config.experimental_run_functions_eagerly` \"\n"
          ]
        },
        {
          "output_type": "stream",
          "name": "stdout",
          "text": [
            "420/420 [==============================] - 413s 984ms/step\n"
          ]
        }
      ]
    },
    {
      "cell_type": "code",
      "metadata": {
        "colab": {
          "base_uri": "https://localhost:8080/",
          "height": 194
        },
        "id": "_FYOm37tNEqt",
        "outputId": "faa1cada-75fe-4b31-ab33-bb94b6132c54"
      },
      "source": [
        "import matplotlib.pyplot as plot\n",
        "\n",
        "prednew = (pred[0]*k.std())+k.mean()\n",
        "ktestnew = (ktest*k.std())+k.mean()\n",
        "# atest = (atest*a.std())+a.mean()\n",
        "\n",
        "pred[1] = (pred[1]>0.5).astype(np.float)\n",
        "predicted = prednew * pred[1]\n",
        "plot.subplot(2,1,2)\n",
        "plot.plot(ktestnew.flatten())\n",
        "plot.plot(predicted.flatten())\n",
        "#plot.plot(atest.flatten())\n",
        "plot.title('Kettle')\n",
        "plot.ylabel('Active Power (W)')\n",
        "plot.xlabel('Sample number')\n",
        "plot.legend([ 'actual','predicted',], loc='upper right')"
      ],
      "execution_count": null,
      "outputs": [
        {
          "output_type": "execute_result",
          "data": {
            "text/plain": [
              "<matplotlib.legend.Legend at 0x7f52c61cba50>"
            ]
          },
          "metadata": {},
          "execution_count": 47
        },
        {
          "output_type": "display_data",
          "data": {
            "image/png": "[encoded data removed]",
            "text/plain": [
              "<Figure size 432x288 with 1 Axes>"
            ]
          },
          "metadata": {
            "needs_background": "light"
          }
        }
      ]
    },
    {
      "cell_type": "code",
      "metadata": {
        "id": "YU56r90ZNEqu"
      },
      "source": [
        "import os\n",
        "import tensorflow_addons as tfa\n",
        "checkpoint = '/gdrive/MyDrive/kettle.ckpt'\n",
        "cdir = os.path.dirname(checkpoint)\n",
        "latest = tf.train.latest_checkpoint(cdir)\n",
        "from tensorflow import keras\n",
        "model = keras.models.load_model('/gdrive/MyDrive/kettle.ckpt',custom_objects={\"f1_score\":tfa.metrics.F1Score})"
      ],
      "execution_count": null,
      "outputs": []
    },
    {
      "cell_type": "markdown",
      "metadata": {
        "id": "PsdA6S_PvaN4"
      },
      "source": [
        "# **Other Things:(Nothing to do here)**"
      ]
    },
    {
      "cell_type": "markdown",
      "metadata": {
        "id": "NuL8gXinV528"
      },
      "source": [
        "# **Extracting variables**"
      ]
    },
    {
      "cell_type": "code",
      "metadata": {
        "colab": {
          "base_uri": "https://localhost:8080/"
        },
        "id": "i4UdZTeO_Ut_",
        "outputId": "cda3553f-8fbe-4cf6-aa5e-7eb11865e14b"
      },
      "source": [
        "\n",
        "from google.colab import drive\n",
        "drive.mount('/gdrive')"
      ],
      "execution_count": null,
      "outputs": [
        {
          "output_type": "stream",
          "name": "stdout",
          "text": [
            "Mounted at /gdrive\n"
          ]
        }
      ]
    },
    {
      "cell_type": "markdown",
      "metadata": {
        "id": "9cicXS8Yagp7"
      },
      "source": [
        "Appliances:\n",
        "Appliance 2 - Washing Machine\n",
        "Appliance 3 - Dishwasher\n",
        "Appliance 5 - Microwave\n",
        "Appliance 8  - Kettle \n",
        "Appliance 6  - Toaster\n"
      ]
    },
    {
      "cell_type": "code",
      "metadata": {
        "id": "xDf4Z-ZYaP0b"
      },
      "source": [
        "import csv\n",
        "\n",
        "import pandas as pd\n",
        "\n",
        "\n",
        "\n",
        "w , d , m , k , t , time , a = [],[],[],[],[],[],[] #To record load values\n",
        "wb , db , mb , kb , tb = [],[],[],[],[]        #To record when the load is off or on \n",
        "\n",
        "\n",
        "mycsv = pd.read_csv('/gdrive/MyDrive/CLEAN_House2.csv')\n",
        "time,a,w,d,m,k,t =  mycsv['Unix'],mycsv['Aggregate'],mycsv['Appliance2'],mycsv['Appliance3'],mycsv['Appliance5'],mycsv['Appliance6'],mycsv['Appliance8']\n",
        "for i in range(len(time)):\n",
        "            wb.append(1) if int(w[i])>0 else wb.append(0)\n",
        "            db.append(1) if int(d[i]) >0 else db.append(0)\n",
        "            mb.append(1) if int(m[i]) >0 else mb.append(0)\n",
        "            kb.append(1) if int(k[i]) >0 else kb.append(0)\n",
        "            tb.append(1) if int(t[i]) >0 else tb.append(0)\n"
      ],
      "execution_count": null,
      "outputs": []
    },
    {
      "cell_type": "code",
      "metadata": {
        "id": "OF5ZqJ55KYdk"
      },
      "source": [
        "wm = w.mean()\n",
        "dm = d.mean()\n",
        "mm = m.mean() \n",
        "km = k.mean()\n",
        "tm = t.mean()"
      ],
      "execution_count": null,
      "outputs": []
    },
    {
      "cell_type": "code",
      "metadata": {
        "colab": {
          "base_uri": "https://localhost:8080/"
        },
        "id": "8BQvijv4mdCP",
        "outputId": "7ee9f52b-4d58-4d5d-8155-42a445efacdd"
      },
      "source": [
        "max(m)"
      ],
      "execution_count": null,
      "outputs": [
        {
          "output_type": "execute_result",
          "data": {
            "text/plain": [
              "3072"
            ]
          },
          "metadata": {},
          "execution_count": 3
        }
      ]
    },
    {
      "cell_type": "code",
      "metadata": {
        "colab": {
          "base_uri": "https://localhost:8080/"
        },
        "id": "r8TI94POM9dg",
        "outputId": "adcf4447-2d42-4dba-f3aa-bec85d0859e2"
      },
      "source": [
        "len(d) == len(db)"
      ],
      "execution_count": null,
      "outputs": [
        {
          "output_type": "execute_result",
          "data": {
            "text/plain": [
              "True"
            ]
          },
          "metadata": {},
          "execution_count": 22
        }
      ]
    },
    {
      "cell_type": "markdown",
      "metadata": {
        "id": "9Ebr6X2UWJqD"
      },
      "source": [
        "# **Preprocessing**"
      ]
    },
    {
      "cell_type": "code",
      "metadata": {
        "id": "T9epb2zxBWL3"
      },
      "source": [
        "def stan(a):\n",
        "  return (a-a.mean())/a.std()"
      ],
      "execution_count": null,
      "outputs": []
    },
    {
      "cell_type": "code",
      "metadata": {
        "id": "__k9Ix4F_Cru"
      },
      "source": [
        "a = stan(a)\n",
        "w = stan(w)\n",
        "d = stan(d)\n",
        "m = stan(m)\n",
        "k = stan(k)\n",
        "t = stan(t)\n",
        "tim = stan(time)\n",
        "wb = pd.Series(wb)\n",
        "mb = pd.Series(mb)\n",
        "kb = pd.Series(kb)\n",
        "tb = pd.Series(tb)\n",
        "db = pd.Series(db)"
      ],
      "execution_count": null,
      "outputs": []
    },
    {
      "cell_type": "code",
      "metadata": {
        "colab": {
          "base_uri": "https://localhost:8080/"
        },
        "id": "NRBjAyk7Nadh",
        "outputId": "a82fab70-064f-4c4d-947d-05fe7a4a67a6"
      },
      "source": [
        "len(d) == len(db)\n"
      ],
      "execution_count": null,
      "outputs": [
        {
          "output_type": "execute_result",
          "data": {
            "text/plain": [
              "True"
            ]
          },
          "metadata": {},
          "execution_count": 25
        }
      ]
    },
    {
      "cell_type": "code",
      "metadata": {
        "id": "i20hWCLCCmj9"
      },
      "source": [
        "#splitting the data\n",
        "train = 4013468\n",
        "wt = w.iloc[0:train]\n",
        "dt = d.iloc[0:train]\n",
        "mt = m.iloc[0:train]\n",
        "kt = k.iloc[0:train]\n",
        "tt = t.iloc[0:train]\n",
        "timt = tim.iloc[0:train]\n",
        "at = a.iloc[0:train]\n",
        "wbt = wb.iloc[0:train]\n",
        "dbt = db.iloc[0:train]\n",
        "mbt = mb.iloc[0:train]\n",
        "kbt = kb.iloc[0:train]\n",
        "tbt = tb.iloc[0:train]\n",
        "wte = w.iloc[train:]\n",
        "dte = d.iloc[train:]\n",
        "mte = m.iloc[train:]\n",
        "kte = k.iloc[train:]\n",
        "tte = t.iloc[train:]\n",
        "timte = tim.iloc[train:]\n",
        "ate = a.iloc[train:]\n",
        "wbte = wb.iloc[train:]\n",
        "dbte = db.iloc[train:]\n",
        "mbte = mb.iloc[train:]\n",
        "kbte = kb.iloc[train:]\n",
        "tbte = tb.iloc[train:]\n"
      ],
      "execution_count": null,
      "outputs": []
    },
    {
      "cell_type": "code",
      "metadata": {
        "colab": {
          "base_uri": "https://localhost:8080/"
        },
        "id": "NiX49Zc5NeMS",
        "outputId": "e672c065-e10f-49d8-c9b9-8a5564e9fc60"
      },
      "source": [
        "len(dt) == len(dbt)\n"
      ],
      "execution_count": null,
      "outputs": [
        {
          "output_type": "execute_result",
          "data": {
            "text/plain": [
              "True"
            ]
          },
          "metadata": {},
          "execution_count": 28
        }
      ]
    },
    {
      "cell_type": "markdown",
      "metadata": {
        "id": "prwgR8GmgdsM"
      },
      "source": [
        "# **Windowing:**"
      ]
    },
    {
      "cell_type": "code",
      "metadata": {
        "id": "15XY7KHvWjpr"
      },
      "source": [
        "w = 0\n",
        "wtr ,dtr ,mtr ,ktr ,ttr ,timetr ,atr = [],[],[],[],[],[],[]   #To window load data during training\n",
        "wbtr ,dbtr ,mbtr ,kbtr ,tbtr =[],[],[],[],[]       #To window load binary during training\n",
        "wtest ,dtest ,mtest ,ktest ,ttest ,timetest ,atest = [],[],[],[],[],[],[]   #To window load data during testing\n",
        "wbtest ,dbtest ,mbtest ,kbtest ,tbtest =[],[],[],[],[]       #To window load binary during testing\n",
        "\n",
        "\n",
        "while(w<train-512):\n",
        "  timetr.append(timt.iloc[w:w+512]) \n",
        "  atr.append(at.iloc[w:w+512])\n",
        "  dtr.append(dt.iloc[w:w+512])\n",
        "  wtr.append(wt.iloc[w:w+512])\n",
        "  dbtr.append(dbt.iloc[w:w+512])\n",
        "  wbtr.append(wbt.iloc[w:w+512])\n",
        "  if w<(1720058-512):\n",
        "    timetest.append(timte.iloc[w:w+512]) \n",
        "    atest.append(ate.iloc[w:w+512])\n",
        "    dtest.append(dte.iloc[w:w+512])\n",
        "    wtest.append(wte.iloc[w:w+512])\n",
        "    dbtest.append(dbte.iloc[w:w+512])\n",
        "    wbtest.append(wbte.iloc[w:w+512])\n",
        "  w += 512\n",
        "\n",
        "\n",
        "\n",
        "\n",
        "\n"
      ],
      "execution_count": null,
      "outputs": []
    },
    {
      "cell_type": "code",
      "metadata": {
        "colab": {
          "base_uri": "https://localhost:8080/"
        },
        "id": "YNSAHSo0NmXq",
        "outputId": "f0bdc9ba-9742-4fb6-840e-751b6feded72"
      },
      "source": [
        "np.shape(dtr) == np.shape(dbtr)\n"
      ],
      "execution_count": null,
      "outputs": [
        {
          "output_type": "execute_result",
          "data": {
            "text/plain": [
              "True"
            ]
          },
          "metadata": {},
          "execution_count": 31
        }
      ]
    },
    {
      "cell_type": "code",
      "metadata": {
        "id": "8bP1COp2jtXJ"
      },
      "source": [
        "from sklearn.utils import shuffle\n",
        "timetr,atr,dtr,wtr,dbtr,wbtr = shuffle(timetr,atr,dtr,wtr,dbtr,wbtr, random_state=0)"
      ],
      "execution_count": null,
      "outputs": []
    },
    {
      "cell_type": "code",
      "metadata": {
        "colab": {
          "base_uri": "https://localhost:8080/"
        },
        "id": "Da-lDfJkNyS7",
        "outputId": "2a392bd4-475c-4b70-a6ab-4150abc1283d"
      },
      "source": [
        "np.shape(dtr) == np.shape(dbtr)"
      ],
      "execution_count": null,
      "outputs": [
        {
          "output_type": "execute_result",
          "data": {
            "text/plain": [
              "True"
            ]
          },
          "metadata": {},
          "execution_count": 34
        }
      ]
    },
    {
      "cell_type": "code",
      "metadata": {
        "id": "Parpsp9I0c7z"
      },
      "source": [
        "import numpy as np\n",
        "np.savez_compressed('/gdrive/MyDrive/washdish',timetr,atr,dtr,wtr,dbtr,wbtr)"
      ],
      "execution_count": null,
      "outputs": []
    },
    {
      "cell_type": "code",
      "metadata": {
        "id": "ByCZIn1xjEFt"
      },
      "source": [
        "from sklearn.utils import shuffle\n",
        "timetest,atest,dtest,wtest,dbtest,wbtest = shuffle(timetest,atest,dtest,wtest,dbtest,wbtest, random_state=0)"
      ],
      "execution_count": null,
      "outputs": []
    },
    {
      "cell_type": "code",
      "metadata": {
        "id": "eXceNHymlUHr"
      },
      "source": [
        "import numpy as np\n",
        "np.savez_compressed('/gdrive/MyDrive/washdishtest',timetest,atest,dtest,wtest,dbtest,wbtest)"
      ],
      "execution_count": null,
      "outputs": []
    },
    {
      "cell_type": "code",
      "metadata": {
        "id": "iAHr0fcCkr9K"
      },
      "source": [
        "fil = np.load('/gdrive/MyDrive/washdish.npz',allow_pickle=True)\n",
        "\n",
        "timetr,atr,dtr,wtr,dbtr,wbtr = fil['arr_0'],fil['arr_1'],fil['arr_2'],fil['arr_3'],fil['arr_4'],fil['arr_5']\n",
        "\n",
        "\n"
      ],
      "execution_count": null,
      "outputs": []
    },
    {
      "cell_type": "code",
      "metadata": {
        "id": "yQoOuIQslORA"
      },
      "source": [
        "w = 0\n",
        "timetr , atr , mbtr ,kbtr ,tbtr , mtr ,ktr ,ttr =[],[],[],[],[],[],[],[]\n",
        "timetest , atest , mbtest ,kbtest ,tbtest , mtest ,ktest ,ttest =[],[],[],[],[],[],[],[]\n",
        "while(w<train-128):\n",
        "  timetr.append(timt[w:w+128]) \n",
        "  atr.append(at[w:w+128])\n",
        "  mtr.append(mt[w:w+128])\n",
        "  ktr.append(kt[w:w+128])\n",
        "  ttr.append(tt[w:w+128])\n",
        "  mbtr.append(mbt[w:w+128])\n",
        "  kbtr.append(kbt[w:w+128])\n",
        "  tbtr.append(tbt[w:w+128])\n",
        "  if w<(1720058-127):\n",
        "    timetest.append(timt[w:w+128]) \n",
        "    atest.append(at[w:w+128])\n",
        "    mtest.append(mt[w:w+128])\n",
        "    ktest.append(kt[w:w+128])\n",
        "    ttest.append(tt[w:w+128])\n",
        "    mbtest.append(mbt[w:w+128])\n",
        "    kbtest.append(kbt[w:w+128])\n",
        "    tbtest.append(tbt[w:w+128])\n",
        "  w += 128\n",
        "\n"
      ],
      "execution_count": null,
      "outputs": []
    },
    {
      "cell_type": "code",
      "metadata": {
        "id": "yc2QMcQ6r7zl"
      },
      "source": [
        "from sklearn.utils import shuffle\n",
        "timetr , atr , mbtr ,kbtr ,tbtr , mtr ,ktr ,ttr = shuffle(timetr , atr , mbtr ,kbtr ,tbtr , mtr ,ktr ,ttr, random_state=0)"
      ],
      "execution_count": null,
      "outputs": []
    },
    {
      "cell_type": "code",
      "metadata": {
        "id": "YypBft0Hm4Uu"
      },
      "source": [
        "timetest , atest , mbtest ,kbtest ,tbtest , mtest ,ktest ,ttest = shuffle(timetest , atest , mbtest ,kbtest ,tbtest , mtest ,ktest ,ttest,random_state=0)"
      ],
      "execution_count": null,
      "outputs": []
    },
    {
      "cell_type": "code",
      "metadata": {
        "id": "lmnokpOfZgLT"
      },
      "source": [
        "np.savez_compressed('/gdrive/MyDrive/toastmicro',timetr , atr , mbtr ,kbtr ,tbtr , mtr ,ktr ,ttr)"
      ],
      "execution_count": null,
      "outputs": []
    },
    {
      "cell_type": "code",
      "metadata": {
        "id": "FSk59JqunWbg"
      },
      "source": [
        "np.savez_compressed('/gdrive/MyDrive/toastmicrotest',timetest , atest , mbtest ,kbtest ,tbtest , mtest ,ktest ,ttest)"
      ],
      "execution_count": null,
      "outputs": []
    }
  ]
}